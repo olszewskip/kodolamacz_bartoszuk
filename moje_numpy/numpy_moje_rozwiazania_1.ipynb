{
 "cells": [
  {
   "cell_type": "code",
   "execution_count": 1,
   "metadata": {},
   "outputs": [],
   "source": [
    "import numpy as np"
   ]
  },
  {
   "cell_type": "markdown",
   "metadata": {},
   "source": [
    "----------"
   ]
  },
  {
   "cell_type": "code",
   "execution_count": 425,
   "metadata": {},
   "outputs": [
    {
     "data": {
      "text/plain": [
       "array([3.141593])"
      ]
     },
     "execution_count": 425,
     "metadata": {},
     "output_type": "execute_result"
    }
   ],
   "source": [
    "np.set_printoptions(precision = 7)\n",
    "np.array([np.pi])"
   ]
  },
  {
   "cell_type": "markdown",
   "metadata": {},
   "source": [
    "-----------------"
   ]
  },
  {
   "cell_type": "code",
   "execution_count": 85,
   "metadata": {},
   "outputs": [
    {
     "data": {
      "text/plain": [
       "array([ 1.57175348, -1.71088532, -2.18518837,  0.41051815,  1.75575176,\n",
       "       -0.61514832,  3.84611359,  1.47863791, -0.15254479, -0.86305985,\n",
       "       -1.25457587,  1.83239766, -0.49142204, -3.52257683, -0.81564596,\n",
       "        1.90396325, -2.54006616, -2.59638595,  0.25241099,  0.2546207 ,\n",
       "        1.07520767,  2.79545435,  1.7956426 ,  0.88818809,  1.77954706,\n",
       "       -1.41632869, -1.10569076, -2.17389415, -1.65028763,  1.04780899])"
      ]
     },
     "execution_count": 85,
     "metadata": {},
     "output_type": "execute_result"
    }
   ],
   "source": [
    "np.random.seed(123)\n",
    "x = np.random.uniform(-4,4, 30)\n",
    "x"
   ]
  },
  {
   "cell_type": "markdown",
   "metadata": {},
   "source": [
    "zad. 1"
   ]
  },
  {
   "cell_type": "markdown",
   "metadata": {},
   "source": [
    "A)"
   ]
  },
  {
   "cell_type": "code",
   "execution_count": 11,
   "metadata": {},
   "outputs": [
    {
     "data": {
      "text/plain": [
       "array([ 1.57175348, -1.71088532,  1.75575176,  1.47863791, -1.25457587,\n",
       "        1.83239766,  1.90396325,  1.07520767,  1.7956426 ,  1.77954706,\n",
       "       -1.41632869, -1.10569076, -1.65028763,  1.04780899])"
      ]
     },
     "execution_count": 11,
     "metadata": {},
     "output_type": "execute_result"
    }
   ],
   "source": [
    "x[(x >= -2) & (x <= -1) | (x >= 1) & (x <= 2)]"
   ]
  },
  {
   "cell_type": "markdown",
   "metadata": {},
   "source": [
    "B)"
   ]
  },
  {
   "cell_type": "code",
   "execution_count": 38,
   "metadata": {},
   "outputs": [
    {
     "data": {
      "text/plain": [
       "-23.093700684541453"
      ]
     },
     "execution_count": 38,
     "metadata": {},
     "output_type": "execute_result"
    }
   ],
   "source": [
    "np.sum(x[x<=0])"
   ]
  },
  {
   "cell_type": "markdown",
   "metadata": {},
   "source": [
    "C)"
   ]
  },
  {
   "cell_type": "code",
   "execution_count": 17,
   "metadata": {},
   "outputs": [
    {
     "data": {
      "text/plain": [
       "1.5260572308400788"
      ]
     },
     "execution_count": 17,
     "metadata": {},
     "output_type": "execute_result"
    }
   ],
   "source": [
    "abs(x).mean()"
   ]
  },
  {
   "cell_type": "markdown",
   "metadata": {},
   "source": [
    "D)"
   ]
  },
  {
   "cell_type": "code",
   "execution_count": 18,
   "metadata": {},
   "outputs": [
    {
     "data": {
      "text/plain": [
       "-3.522576827123453"
      ]
     },
     "execution_count": 18,
     "metadata": {},
     "output_type": "execute_result"
    }
   ],
   "source": [
    "x.min()"
   ]
  },
  {
   "cell_type": "code",
   "execution_count": 19,
   "metadata": {},
   "outputs": [
    {
     "data": {
      "text/plain": [
       "3.846113587076924"
      ]
     },
     "execution_count": 19,
     "metadata": {},
     "output_type": "execute_result"
    }
   ],
   "source": [
    "x.max()"
   ]
  },
  {
   "cell_type": "markdown",
   "metadata": {},
   "source": [
    "E)"
   ]
  },
  {
   "cell_type": "code",
   "execution_count": 50,
   "metadata": {},
   "outputs": [
    {
     "data": {
      "text/plain": [
       "array([-0.15254479])"
      ]
     },
     "execution_count": 50,
     "metadata": {},
     "output_type": "execute_result"
    }
   ],
   "source": [
    "small = abs(x).min()\n",
    "x[(x==small) | (x == -small)]"
   ]
  },
  {
   "cell_type": "code",
   "execution_count": 49,
   "metadata": {},
   "outputs": [
    {
     "data": {
      "text/plain": [
       "-0.15254478812511252"
      ]
     },
     "execution_count": 49,
     "metadata": {},
     "output_type": "execute_result"
    }
   ],
   "source": [
    "x[np.abs(x).argmin()]"
   ]
  },
  {
   "cell_type": "code",
   "execution_count": 47,
   "metadata": {},
   "outputs": [
    {
     "data": {
      "text/plain": [
       "array([3.84611359])"
      ]
     },
     "execution_count": 47,
     "metadata": {},
     "output_type": "execute_result"
    }
   ],
   "source": [
    "big = abs(x).max()\n",
    "x[(x == big) | (x == -big)]"
   ]
  },
  {
   "cell_type": "code",
   "execution_count": 48,
   "metadata": {},
   "outputs": [
    {
     "data": {
      "text/plain": [
       "3.846113587076924"
      ]
     },
     "execution_count": 48,
     "metadata": {},
     "output_type": "execute_result"
    }
   ],
   "source": [
    "x[np.abs(x).argmax()]"
   ]
  },
  {
   "cell_type": "markdown",
   "metadata": {},
   "source": [
    "F)"
   ]
  },
  {
   "cell_type": "code",
   "execution_count": 53,
   "metadata": {},
   "outputs": [
    {
     "data": {
      "text/plain": [
       "1.9039632458562856"
      ]
     },
     "execution_count": 53,
     "metadata": {},
     "output_type": "execute_result"
    }
   ],
   "source": [
    "x[np.abs(x-2).argmin()]"
   ]
  },
  {
   "cell_type": "code",
   "execution_count": 57,
   "metadata": {},
   "outputs": [
    {
     "data": {
      "text/plain": [
       "array([1.90396325])"
      ]
     },
     "execution_count": 57,
     "metadata": {},
     "output_type": "execute_result"
    }
   ],
   "source": [
    "small = abs(x-2).min()\n",
    "x[(x-2 == small) | (x-2 == -small)]"
   ]
  },
  {
   "cell_type": "code",
   "execution_count": 34,
   "metadata": {},
   "outputs": [
    {
     "data": {
      "text/plain": [
       "array([-3.52257683])"
      ]
     },
     "execution_count": 34,
     "metadata": {},
     "output_type": "execute_result"
    }
   ],
   "source": [
    "big = abs(x-2).max()\n",
    "x[(x-2 == big) | (x-2 == -big)]"
   ]
  },
  {
   "cell_type": "code",
   "execution_count": 56,
   "metadata": {},
   "outputs": [
    {
     "data": {
      "text/plain": [
       "-3.522576827123453"
      ]
     },
     "execution_count": 56,
     "metadata": {},
     "output_type": "execute_result"
    }
   ],
   "source": [
    "x[np.abs(x-2).argmax()]"
   ]
  },
  {
   "cell_type": "markdown",
   "metadata": {},
   "source": [
    "G)"
   ]
  },
  {
   "cell_type": "code",
   "execution_count": 55,
   "metadata": {},
   "outputs": [
    {
     "data": {
      "text/plain": [
       "array([ 0.57175348, -0.71088532, -0.18518837,  0.41051815,  0.75575176,\n",
       "       -0.61514832,  0.84611359,  0.47863791, -0.15254479, -0.86305985,\n",
       "       -0.25457587,  0.83239766, -0.49142204, -0.52257683, -0.81564596,\n",
       "        0.90396325, -0.54006616, -0.59638595,  0.25241099,  0.2546207 ,\n",
       "        0.07520767,  0.79545435,  0.7956426 ,  0.88818809,  0.77954706,\n",
       "       -0.41632869, -0.10569076, -0.17389415, -0.65028763,  0.04780899])"
      ]
     },
     "execution_count": 55,
     "metadata": {},
     "output_type": "execute_result"
    }
   ],
   "source": [
    "np.modf(x)[0]"
   ]
  },
  {
   "cell_type": "markdown",
   "metadata": {},
   "source": [
    "H)"
   ]
  },
  {
   "cell_type": "code",
   "execution_count": 37,
   "metadata": {},
   "outputs": [
    {
     "data": {
      "text/plain": [
       "array([ 0.38269625, -0.50827314, -0.63700783,  0.06751533,  0.43263682,\n",
       "       -0.21086968,  1.        ,  0.35742295, -0.08531046, -0.2781575 ,\n",
       "       -0.38442224,  0.45343994, -0.17728806, -1.        , -0.26528848,\n",
       "        0.47286418, -0.73332828, -0.74861452,  0.02460209,  0.02520185,\n",
       "        0.24792446,  0.71483149,  0.44346393,  0.19716386,  0.4390953 ,\n",
       "       -0.42832498, -0.34401205, -0.63394237, -0.49182579,  0.24048795])"
      ]
     },
     "execution_count": 37,
     "metadata": {},
     "output_type": "execute_result"
    }
   ],
   "source": [
    "min_ = x.min()\n",
    "max_ = x.max()\n",
    "new_min = -1\n",
    "new_max = 1\n",
    "(x - min_) / (max_ - min_) * (new_max - new_min) + new_min"
   ]
  },
  {
   "cell_type": "markdown",
   "metadata": {},
   "source": [
    "I)"
   ]
  },
  {
   "cell_type": "code",
   "execution_count": 40,
   "metadata": {},
   "outputs": [
    {
     "data": {
      "text/plain": [
       "8.315859553206058"
      ]
     },
     "execution_count": 40,
     "metadata": {},
     "output_type": "execute_result"
    }
   ],
   "source": [
    "(x[(x > 3) | (x < -2)] ** 2).mean()"
   ]
  },
  {
   "cell_type": "markdown",
   "metadata": {},
   "source": [
    "K)"
   ]
  },
  {
   "cell_type": "code",
   "execution_count": 76,
   "metadata": {},
   "outputs": [
    {
     "data": {
      "text/plain": [
       "array(['nieujemna', 'ujemna', 'ujemna', 'nieujemna', 'nieujemna',\n",
       "       'ujemna', 'nieujemna', 'nieujemna', 'ujemna', 'ujemna', 'ujemna',\n",
       "       'nieujemna', 'ujemna', 'ujemna', 'ujemna', 'nieujemna', 'ujemna',\n",
       "       'ujemna', 'nieujemna', 'nieujemna', 'nieujemna', 'nieujemna',\n",
       "       'nieujemna', 'nieujemna', 'nieujemna', 'ujemna', 'ujemna',\n",
       "       'ujemna', 'ujemna', 'nieujemna'], dtype='<U32')"
      ]
     },
     "execution_count": 76,
     "metadata": {},
     "output_type": "execute_result"
    }
   ],
   "source": [
    "y = x.copy().astype(str)\n",
    "y[x >= 0] = 'nieujemna'\n",
    "y[x < 0] = 'ujemna'\n",
    "y"
   ]
  },
  {
   "cell_type": "code",
   "execution_count": 77,
   "metadata": {},
   "outputs": [
    {
     "data": {
      "text/plain": [
       "array(['nieujemna', 'ujemna', 'ujemna', 'nieujemna', 'nieujemna',\n",
       "       'ujemna', 'nieujemna', 'nieujemna', 'ujemna', 'ujemna', 'ujemna',\n",
       "       'nieujemna', 'ujemna', 'ujemna', 'ujemna', 'nieujemna', 'ujemna',\n",
       "       'ujemna', 'nieujemna', 'nieujemna', 'nieujemna', 'nieujemna',\n",
       "       'nieujemna', 'nieujemna', 'nieujemna', 'ujemna', 'ujemna',\n",
       "       'ujemna', 'ujemna', 'nieujemna'], dtype='<U9')"
      ]
     },
     "execution_count": 77,
     "metadata": {},
     "output_type": "execute_result"
    }
   ],
   "source": [
    "np.where(x>=0, 'nieujemna', 'ujemna') # broadcasting"
   ]
  },
  {
   "cell_type": "markdown",
   "metadata": {},
   "source": [
    "L)"
   ]
  },
  {
   "cell_type": "code",
   "execution_count": 81,
   "metadata": {},
   "outputs": [
    {
     "data": {
      "text/plain": [
       "(-0.01352281479601792, -0.01352281479601792)"
      ]
     },
     "execution_count": 81,
     "metadata": {},
     "output_type": "execute_result"
    }
   ],
   "source": [
    "x.sum()/x.size"
   ]
  },
  {
   "cell_type": "markdown",
   "metadata": {},
   "source": [
    "M)"
   ]
  },
  {
   "cell_type": "code",
   "execution_count": 82,
   "metadata": {},
   "outputs": [
    {
     "data": {
      "text/plain": [
       "array([ 2.51310095,  2.88103948,  4.71613129,  0.17981074,  3.13033251,\n",
       "        0.36195325, 14.89679315,  2.22654362,  0.01932711,  0.72171318,\n",
       "        1.54021269,  3.4074224 ,  0.22838767, 12.31346006,  0.64340154,\n",
       "        3.67675279,  6.38342126,  6.67118198,  0.07072079,  0.07190094,\n",
       "        1.18533407,  7.89035273,  3.27307949,  0.81308255,  3.21509958,\n",
       "        1.96786432,  1.19283081,  4.66720432,  2.67899906,  1.1264252 ])"
      ]
     },
     "execution_count": 82,
     "metadata": {},
     "output_type": "execute_result"
    }
   ],
   "source": [
    "( x - x.mean() ) **2"
   ]
  },
  {
   "cell_type": "markdown",
   "metadata": {},
   "source": [
    "N)"
   ]
  },
  {
   "cell_type": "code",
   "execution_count": 91,
   "metadata": {},
   "outputs": [
    {
     "data": {
      "text/plain": [
       "(-3.522576827123453, 3.846113587076924)"
      ]
     },
     "execution_count": 91,
     "metadata": {},
     "output_type": "execute_result"
    }
   ],
   "source": [
    "np.sort(x)[0], np.sort(x)[-1]"
   ]
  },
  {
   "cell_type": "markdown",
   "metadata": {},
   "source": [
    "O)"
   ]
  },
  {
   "cell_type": "code",
   "execution_count": 99,
   "metadata": {},
   "outputs": [
    {
     "data": {
      "text/plain": [
       "(-3, -4.0, -4.0)"
      ]
     },
     "execution_count": 99,
     "metadata": {},
     "output_type": "execute_result"
    }
   ],
   "source": [
    "round(-3.4), -3.4 // 1, np.floor(-3.4)"
   ]
  },
  {
   "cell_type": "code",
   "execution_count": 93,
   "metadata": {},
   "outputs": [
    {
     "data": {
      "text/plain": [
       "array([ 1.5, -1.5, -2.5,  0.5,  1.5, -0.5,  3.5,  1.5, -0.5, -0.5, -1.5,\n",
       "        1.5, -0.5, -3.5, -0.5,  1.5, -2.5, -2.5,  0.5,  0.5,  1.5,  2.5,\n",
       "        1.5,  0.5,  1.5, -1.5, -1.5, -2.5, -1.5,  1.5])"
      ]
     },
     "execution_count": 93,
     "metadata": {},
     "output_type": "execute_result"
    }
   ],
   "source": [
    "x // 1 + .5"
   ]
  },
  {
   "cell_type": "code",
   "execution_count": 100,
   "metadata": {},
   "outputs": [
    {
     "data": {
      "text/plain": [
       "array([ 1.5, -1.5, -2.5,  0.5,  1.5, -0.5,  3.5,  1.5, -0.5, -0.5, -1.5,\n",
       "        1.5, -0.5, -3.5, -0.5,  1.5, -2.5, -2.5,  0.5,  0.5,  1.5,  2.5,\n",
       "        1.5,  0.5,  1.5, -1.5, -1.5, -2.5, -1.5,  1.5])"
      ]
     },
     "execution_count": 100,
     "metadata": {},
     "output_type": "execute_result"
    }
   ],
   "source": [
    "np.floor(x) + .5"
   ]
  },
  {
   "cell_type": "markdown",
   "metadata": {},
   "source": [
    "zad. 1.2"
   ]
  },
  {
   "cell_type": "code",
   "execution_count": 151,
   "metadata": {},
   "outputs": [],
   "source": [
    "def korelacja_1(x, y):\n",
    "    def sd(x): return np.sqrt(sum((x - x.mean()) ** 2))\n",
    "    return sum((x - x.mean())*(y - y.mean())) / (sd(x) * sd(y))\n",
    "\n",
    "def korelacja_2(x,y):\n",
    "    x_mean = x.mean()\n",
    "    y_mean = y.mean()\n",
    "    n = x.size\n",
    "    numerator = sum(x*y) - n*x_mean*y_mean\n",
    "    def avgsqr(x): return np.sqrt(sum(x**2) - x.size*x.mean()**2)\n",
    "    denominator = avgsqr(x) * avgsqr(y)\n",
    "    return numerator / denominator"
   ]
  },
  {
   "cell_type": "code",
   "execution_count": 152,
   "metadata": {},
   "outputs": [
    {
     "data": {
      "text/plain": [
       "(-1.0, -1.0)"
      ]
     },
     "execution_count": 152,
     "metadata": {},
     "output_type": "execute_result"
    }
   ],
   "source": [
    "x = np.arange(1,11)\n",
    "y = np.arange(10,0,-1)\n",
    "korelacja_1(x,y), korelacja_2(x,y)"
   ]
  },
  {
   "cell_type": "code",
   "execution_count": 153,
   "metadata": {},
   "outputs": [
    {
     "data": {
      "text/plain": [
       "(1.0000000000000002, 0.9999999999999999)"
      ]
     },
     "execution_count": 153,
     "metadata": {},
     "output_type": "execute_result"
    }
   ],
   "source": [
    "x = np.random.normal(size=100)\n",
    "y = 5*x + 2\n",
    "korelacja_1(x,y), korelacja_2(x,y)"
   ]
  },
  {
   "cell_type": "code",
   "execution_count": 154,
   "metadata": {},
   "outputs": [
    {
     "data": {
      "text/plain": [
       "(0.07339436284468843, 0.07339436284468843)"
      ]
     },
     "execution_count": 154,
     "metadata": {},
     "output_type": "execute_result"
    }
   ],
   "source": [
    "x = np.random.normal(size=100)\n",
    "y = np.random.normal(size=100)\n",
    "korelacja(x,y), korelacja(x,y)"
   ]
  },
  {
   "cell_type": "markdown",
   "metadata": {},
   "source": [
    "zad. 1.3"
   ]
  },
  {
   "cell_type": "code",
   "execution_count": 136,
   "metadata": {},
   "outputs": [
    {
     "data": {
      "text/plain": [
       "0.955364996891829"
      ]
     },
     "execution_count": 136,
     "metadata": {},
     "output_type": "execute_result"
    }
   ],
   "source": []
  },
  {
   "cell_type": "code",
   "execution_count": 137,
   "metadata": {},
   "outputs": [],
   "source": [
    "def standarize(x):\n",
    "    return (x - x.mean()) / np.std(x)\n",
    "\n",
    "x_std = standarize(x)"
   ]
  },
  {
   "cell_type": "code",
   "execution_count": 138,
   "metadata": {},
   "outputs": [
    {
     "data": {
      "text/plain": [
       "1.0"
      ]
     },
     "execution_count": 138,
     "metadata": {},
     "output_type": "execute_result"
    }
   ],
   "source": [
    "x_std.std()"
   ]
  },
  {
   "cell_type": "code",
   "execution_count": 139,
   "metadata": {},
   "outputs": [
    {
     "data": {
      "text/plain": [
       "-7.216449660063518e-18"
      ]
     },
     "execution_count": 139,
     "metadata": {},
     "output_type": "execute_result"
    }
   ],
   "source": [
    "x_std.mean()"
   ]
  },
  {
   "cell_type": "code",
   "execution_count": 146,
   "metadata": {},
   "outputs": [
    {
     "data": {
      "text/plain": [
       "array([[ 7, 10],\n",
       "       [15, 22]])"
      ]
     },
     "execution_count": 146,
     "metadata": {},
     "output_type": "execute_result"
    }
   ],
   "source": [
    "a = np.array([[1,2],[3,4]])\n",
    "b = np.array([[1,2],[3,4]])\n",
    "a @ b"
   ]
  },
  {
   "cell_type": "code",
   "execution_count": 147,
   "metadata": {},
   "outputs": [
    {
     "data": {
      "text/plain": [
       "array([[ 7, 10],\n",
       "       [15, 22]])"
      ]
     },
     "execution_count": 147,
     "metadata": {},
     "output_type": "execute_result"
    }
   ],
   "source": [
    "np.matmul(a, b)"
   ]
  },
  {
   "cell_type": "code",
   "execution_count": 148,
   "metadata": {},
   "outputs": [
    {
     "data": {
      "text/plain": [
       "array([[ 7, 10],\n",
       "       [15, 22]])"
      ]
     },
     "execution_count": 148,
     "metadata": {},
     "output_type": "execute_result"
    }
   ],
   "source": [
    "np.dot(a,b)"
   ]
  },
  {
   "cell_type": "markdown",
   "metadata": {},
   "source": [
    "zad. 1.4"
   ]
  },
  {
   "cell_type": "code",
   "execution_count": 157,
   "metadata": {},
   "outputs": [],
   "source": [
    "x * y;"
   ]
  },
  {
   "cell_type": "markdown",
   "metadata": {},
   "source": [
    "zad. 1.5"
   ]
  },
  {
   "cell_type": "code",
   "execution_count": 159,
   "metadata": {},
   "outputs": [
    {
     "data": {
      "text/plain": [
       "1.318567310057132"
      ]
     },
     "execution_count": 159,
     "metadata": {},
     "output_type": "execute_result"
    }
   ],
   "source": [
    "def RMSE(x,y):\n",
    "    n = x.size\n",
    "    return np.sqrt( sum((y-x) ** 2) / n )\n",
    "\n",
    "RMSE(x,y)"
   ]
  },
  {
   "cell_type": "markdown",
   "metadata": {},
   "source": [
    "zad. 1.6"
   ]
  },
  {
   "cell_type": "code",
   "execution_count": 161,
   "metadata": {},
   "outputs": [
    {
     "data": {
      "text/plain": [
       "1.03585455130962"
      ]
     },
     "execution_count": 161,
     "metadata": {},
     "output_type": "execute_result"
    }
   ],
   "source": [
    "def MAE(x,y):\n",
    "    n = x.size\n",
    "    return sum(abs(x-y)) / n\n",
    "\n",
    "MAE(x,y)"
   ]
  },
  {
   "cell_type": "markdown",
   "metadata": {},
   "source": [
    "zad. 1.7"
   ]
  },
  {
   "cell_type": "code",
   "execution_count": 164,
   "metadata": {},
   "outputs": [
    {
     "data": {
      "text/plain": [
       "0.8256875567205334"
      ]
     },
     "execution_count": 164,
     "metadata": {},
     "output_type": "execute_result"
    }
   ],
   "source": [
    "def MedAE(x,y):\n",
    "    return np.median(abs(x-y))\n",
    "\n",
    "MedAE(x,y)"
   ]
  },
  {
   "cell_type": "markdown",
   "metadata": {},
   "source": [
    "zad. 1.8"
   ]
  },
  {
   "cell_type": "code",
   "execution_count": 169,
   "metadata": {},
   "outputs": [
    {
     "data": {
      "text/plain": [
       "1.0"
      ]
     },
     "execution_count": 169,
     "metadata": {},
     "output_type": "execute_result"
    }
   ],
   "source": [
    "def Hamming(x,y):\n",
    "    # print(x != y)\n",
    "    return sum(x != y) / x.size\n",
    "\n",
    "Hamming(x,y)"
   ]
  },
  {
   "cell_type": "markdown",
   "metadata": {},
   "source": [
    "zad. 1.9"
   ]
  },
  {
   "cell_type": "code",
   "execution_count": 191,
   "metadata": {},
   "outputs": [
    {
     "data": {
      "text/plain": [
       "0.8948473935897135"
      ]
     },
     "execution_count": 191,
     "metadata": {},
     "output_type": "execute_result"
    }
   ],
   "source": [
    "def cross_entropy(y1, y2):\n",
    "    n = y1.size\n",
    "    return -sum( y1 * np.log(y2) + (1 - y1)*np.log(1 - y2) ) / n\n",
    "\n",
    "y1 = np.random.choice((0,1),size=100)\n",
    "y2 = np.random.uniform(size=100)\n",
    "cross_entropy(y1, y2)"
   ]
  },
  {
   "cell_type": "code",
   "execution_count": 190,
   "metadata": {},
   "outputs": [
    {
     "data": {
      "text/plain": [
       "array([0, 0, 1, 1, 1])"
      ]
     },
     "execution_count": 190,
     "metadata": {},
     "output_type": "execute_result"
    }
   ],
   "source": [
    "np.random.choice((0,1), 5)"
   ]
  },
  {
   "cell_type": "code",
   "execution_count": null,
   "metadata": {},
   "outputs": [],
   "source": []
  },
  {
   "cell_type": "code",
   "execution_count": 229,
   "metadata": {},
   "outputs": [],
   "source": [
    "x = np.array([1,4,5,8,12,23])"
   ]
  },
  {
   "cell_type": "markdown",
   "metadata": {},
   "source": [
    "zad. 1.10"
   ]
  },
  {
   "cell_type": "code",
   "execution_count": 224,
   "metadata": {},
   "outputs": [
    {
     "data": {
      "text/plain": [
       "array([ 8., 12., 23., nan, nan, nan])"
      ]
     },
     "execution_count": 224,
     "metadata": {},
     "output_type": "execute_result"
    }
   ],
   "source": [
    "def lead(x,idx):\n",
    "    return np.r_[x[idx:], [np.NaN]*idx]\n",
    "\n",
    "lead(x,3)"
   ]
  },
  {
   "cell_type": "code",
   "execution_count": 225,
   "metadata": {},
   "outputs": [
    {
     "data": {
      "text/plain": [
       "array([nan, nan,  1.,  4.,  5.,  8.])"
      ]
     },
     "execution_count": 225,
     "metadata": {},
     "output_type": "execute_result"
    }
   ],
   "source": [
    "def lag(x, idx):\n",
    "    return np.r_[[np.NaN]*idx, x[:-idx]]\n",
    "\n",
    "\n",
    "lag(x,2)"
   ]
  },
  {
   "cell_type": "markdown",
   "metadata": {},
   "source": [
    "zad. 1.11"
   ]
  },
  {
   "cell_type": "code",
   "execution_count": 241,
   "metadata": {},
   "outputs": [
    {
     "data": {
      "text/plain": [
       "array([ True, False,  True, False,  True, False,  True,  True, False,\n",
       "        True])"
      ]
     },
     "execution_count": 241,
     "metadata": {},
     "output_type": "execute_result"
    }
   ],
   "source": [
    "x = np.random.choice((True, False), 10)\n",
    "x"
   ]
  },
  {
   "cell_type": "code",
   "execution_count": 257,
   "metadata": {},
   "outputs": [
    {
     "data": {
      "text/plain": [
       "0"
      ]
     },
     "execution_count": 257,
     "metadata": {},
     "output_type": "execute_result"
    }
   ],
   "source": [
    "x.argmax()"
   ]
  },
  {
   "cell_type": "code",
   "execution_count": 256,
   "metadata": {},
   "outputs": [
    {
     "data": {
      "text/plain": [
       "array([ True, False, False, False, False, False, False, False, False,\n",
       "       False])"
      ]
     },
     "execution_count": 256,
     "metadata": {},
     "output_type": "execute_result"
    }
   ],
   "source": [
    "from itertools import accumulate\n",
    "def cumall(x):\n",
    "    return np.array(list(accumulate(x, lambda x,y: x and y)))\n",
    "\n",
    "cumall(x)"
   ]
  },
  {
   "cell_type": "code",
   "execution_count": 265,
   "metadata": {},
   "outputs": [
    {
     "data": {
      "text/plain": [
       "array([ True,  True])"
      ]
     },
     "execution_count": 265,
     "metadata": {},
     "output_type": "execute_result"
    }
   ],
   "source": [
    "def cumall_2(x):\n",
    "    if np.all(x):\n",
    "        return x.copy()\n",
    "    idx = x.argmin()\n",
    "    n = x.size\n",
    "    return np.r_[np.repeat(True,idx), np.repeat(False, n-idx)]\n",
    "\n",
    "cumall_2(np.array([True, True]))"
   ]
  },
  {
   "cell_type": "code",
   "execution_count": 221,
   "metadata": {},
   "outputs": [
    {
     "data": {
      "text/plain": [
       "array([False, False, False, False,  True,  True,  True,  True,  True,\n",
       "        True])"
      ]
     },
     "execution_count": 221,
     "metadata": {},
     "output_type": "execute_result"
    }
   ],
   "source": [
    "from itertools import accumulate\n",
    "def cumany(x):\n",
    "    return np.array(list(accumulate(x, lambda x,y: x or y)))\n",
    "\n",
    "cumany(x)"
   ]
  },
  {
   "cell_type": "code",
   "execution_count": 268,
   "metadata": {},
   "outputs": [
    {
     "data": {
      "text/plain": [
       "array([False, False])"
      ]
     },
     "execution_count": 268,
     "metadata": {},
     "output_type": "execute_result"
    }
   ],
   "source": [
    "def cumany_2(x):\n",
    "    if any(~x):\n",
    "        return x.copy()\n",
    "    idx = x.argmax()\n",
    "    n = x.size\n",
    "    return np.r_[np.repeat(False, n-idx), np.repeat(True, idx)]\n",
    "\n",
    "cumany_2(np.array([False, False]))"
   ]
  },
  {
   "cell_type": "markdown",
   "metadata": {},
   "source": [
    "zad. 1.12"
   ]
  },
  {
   "cell_type": "code",
   "execution_count": 269,
   "metadata": {},
   "outputs": [],
   "source": [
    "n = 5\n",
    "x = np.array([6,9,10])\n",
    "k = x.size\n",
    "p = np.array([0.1, 0.4, 0.5])"
   ]
  },
  {
   "cell_type": "code",
   "execution_count": 288,
   "metadata": {},
   "outputs": [
    {
     "data": {
      "text/plain": [
       "array([0.1, 0.5, 1. ])"
      ]
     },
     "execution_count": 288,
     "metadata": {},
     "output_type": "execute_result"
    }
   ],
   "source": [
    "p_cum = np.cumsum(p)\n",
    "bins = p_cum\n",
    "bins"
   ]
  },
  {
   "cell_type": "code",
   "execution_count": 290,
   "metadata": {},
   "outputs": [
    {
     "data": {
      "text/plain": [
       "array([0.6336019 , 0.07461217])"
      ]
     },
     "execution_count": 290,
     "metadata": {},
     "output_type": "execute_result"
    }
   ],
   "source": [
    "u = np.random.uniform(size=2)\n",
    "u"
   ]
  },
  {
   "cell_type": "code",
   "execution_count": 297,
   "metadata": {},
   "outputs": [
    {
     "data": {
      "text/plain": [
       "array([10,  6])"
      ]
     },
     "execution_count": 297,
     "metadata": {},
     "output_type": "execute_result"
    }
   ],
   "source": [
    "x[np.digitize(u, bins)]"
   ]
  },
  {
   "cell_type": "code",
   "execution_count": 5,
   "metadata": {},
   "outputs": [
    {
     "data": {
      "text/plain": [
       "array([3, 2, 2, 2, 3, 2, 2, 3, 2, 3, 2, 3, 3, 2, 3, 3, 2, 2, 2, 1, 2, 3,\n",
       "       2, 2, 2, 2, 3, 2, 2, 2, 2, 2, 2, 3, 2, 2, 3, 3, 3, 2, 2, 2, 3, 3,\n",
       "       3, 2, 1, 3, 3, 3, 2, 2, 2, 3, 3, 3, 2, 2, 3, 3, 3, 3, 1, 2, 2, 1,\n",
       "       1, 2, 2, 2, 2, 2, 2, 2, 1, 2, 1, 2, 1, 2, 2, 3, 2, 1, 3, 3, 2, 2,\n",
       "       2, 3, 2, 3, 3, 2, 2, 2, 2, 2, 2, 2])"
      ]
     },
     "execution_count": 5,
     "metadata": {},
     "output_type": "execute_result"
    }
   ],
   "source": [
    "def losuj(n, x, p):\n",
    "    bins = np.cumsum(p)\n",
    "    u = np.random.uniform(size=n)\n",
    "    indeces = np.digitize(u, bins)\n",
    "    return x[indeces]\n",
    "\n",
    "wylosowane = losuj(100, np.array([1,2,3]), np.array([0.1,0.6,0.3]))\n",
    "wylosowane"
   ]
  },
  {
   "cell_type": "code",
   "execution_count": 6,
   "metadata": {},
   "outputs": [
    {
     "data": {
      "text/plain": [
       "array([0.09, 0.58, 0.33])"
      ]
     },
     "execution_count": 6,
     "metadata": {},
     "output_type": "execute_result"
    }
   ],
   "source": [
    "np.unique(wylosowane, return_counts=True)[1] / 100"
   ]
  },
  {
   "cell_type": "markdown",
   "metadata": {},
   "source": [
    "zad. 1.13"
   ]
  },
  {
   "cell_type": "code",
   "execution_count": 86,
   "metadata": {},
   "outputs": [
    {
     "name": "stdout",
     "output_type": "stream",
     "text": [
      "[1 2 2 1 3 3 4]\n"
     ]
    },
    {
     "data": {
      "text/plain": [
       "array([1, 2, 2, 1, 3, 3, 3])"
      ]
     },
     "execution_count": 86,
     "metadata": {},
     "output_type": "execute_result"
    }
   ],
   "source": [
    "x = np.array([1,2,3,4])\n",
    "y = np.array([5,-2,8,3])\n",
    "z = np.array([1.5, 2.4, 2.7, 1.1, 3.8, 3.9, 4])\n",
    "idx = np.digitize(z, x)\n",
    "print(idx)\n",
    "idx[idx == x.size] = x.size - 1\n",
    "idx"
   ]
  },
  {
   "cell_type": "code",
   "execution_count": 84,
   "metadata": {},
   "outputs": [
    {
     "data": {
      "text/plain": [
       "array([1.5, 2. , 5. , 4.3, 4. , 3.5, 3. ])"
      ]
     },
     "execution_count": 84,
     "metadata": {},
     "output_type": "execute_result"
    }
   ],
   "source": [
    "y[idx-1] + (y[idx] - y[idx-1]) * (z - x[idx-1]) / (x[idx] - x[idx-1])"
   ]
  },
  {
   "cell_type": "code",
   "execution_count": 87,
   "metadata": {},
   "outputs": [
    {
     "data": {
      "text/plain": [
       "array([1.5, 2. , 5. , 4.3, 4. , 3.5, 3. ])"
      ]
     },
     "execution_count": 87,
     "metadata": {},
     "output_type": "execute_result"
    }
   ],
   "source": [
    "def interpolacja_kawalkami(x, y, z):\n",
    "    idx = np.digitize(z, x)\n",
    "    idx[idx == x.size] = x.size - 1\n",
    "    return y[idx-1] + (y[idx] - y[idx-1]) * (z - x[idx-1]) / (x[idx] - x[idx-1])\n",
    "\n",
    "interpolacja_kawalkami(x, y, z)"
   ]
  },
  {
   "cell_type": "code",
   "execution_count": 56,
   "metadata": {},
   "outputs": [],
   "source": [
    "import matplotlib.pyplot as plt"
   ]
  },
  {
   "cell_type": "code",
   "execution_count": 88,
   "metadata": {},
   "outputs": [
    {
     "data": {
      "image/png": "[encoded data removed]",
      "text/plain": [
       "<matplotlib.figure.Figure at 0x7fea9491a908>"
      ]
     },
     "metadata": {},
     "output_type": "display_data"
    }
   ],
   "source": [
    "plt.plot(x,y,'b-', z, interpolacja_kawalkami(x, y, z), 'ro');"
   ]
  },
  {
   "cell_type": "markdown",
   "metadata": {},
   "source": [
    "zad. 1.14"
   ]
  },
  {
   "cell_type": "code",
   "execution_count": 43,
   "metadata": {},
   "outputs": [
    {
     "data": {
      "text/plain": [
       "array([[-20.10192801,  -3.01351313,   4.84426023],\n",
       "       [ 14.29754539,  20.67797135,  -5.10988634]])"
      ]
     },
     "execution_count": 43,
     "metadata": {},
     "output_type": "execute_result"
    }
   ],
   "source": [
    "x = np.random.normal(0,10, size=6).reshape(2,3)\n",
    "x"
   ]
  },
  {
   "cell_type": "code",
   "execution_count": 44,
   "metadata": {},
   "outputs": [
    {
     "data": {
      "text/plain": [
       "array([[1.46500862e-11, 3.86584526e-04, 9.99613415e-01],\n",
       "       [1.69153492e-03, 9.98308465e-01, 6.30580388e-12]])"
      ]
     },
     "execution_count": 44,
     "metadata": {},
     "output_type": "execute_result"
    }
   ],
   "source": [
    "row_divisor = np.apply_along_axis(lambda x: np.sum(np.exp(x)), 1, x).reshape(-1,1)\n",
    "np.exp(x) / row_divisor"
   ]
  },
  {
   "cell_type": "code",
   "execution_count": 56,
   "metadata": {},
   "outputs": [
    {
     "data": {
      "text/plain": [
       "array([[1.46500862e-11, 3.86584526e-04, 9.99613415e-01],\n",
       "       [1.69153492e-03, 9.98308465e-01, 6.30580388e-12]])"
      ]
     },
     "execution_count": 56,
     "metadata": {},
     "output_type": "execute_result"
    }
   ],
   "source": [
    "def softmax(x):\n",
    "    sum_exp = lambda x_: np.sum(np.exp(x_))\n",
    "    sum_exp_over_rows = np.apply_along_axis(sum_exp, 1, x)\n",
    "    # see: np.sum(matrix, axis=1)\n",
    "    \n",
    "    row_divisor = sum_exp_over_rows.reshape(-1,1)\n",
    "    return np.exp(x) / row_divisor\n",
    "\n",
    "softmax(x)"
   ]
  },
  {
   "cell_type": "code",
   "execution_count": 57,
   "metadata": {},
   "outputs": [
    {
     "data": {
      "text/plain": [
       "1"
      ]
     },
     "execution_count": 57,
     "metadata": {},
     "output_type": "execute_result"
    }
   ],
   "source": [
    "loc_closest_to_one = lambda x: np.abs(x-1).argmin()\n",
    "loc_closest_to_one(np.array([0.5, 0.9, 1.2]))"
   ]
  },
  {
   "cell_type": "code",
   "execution_count": 58,
   "metadata": {},
   "outputs": [
    {
     "data": {
      "text/plain": [
       "array([2, 1])"
      ]
     },
     "execution_count": 58,
     "metadata": {},
     "output_type": "execute_result"
    }
   ],
   "source": [
    "np.apply_along_axis(loc_closest_to_one, 1, softmax(x))"
   ]
  },
  {
   "cell_type": "code",
   "execution_count": 77,
   "metadata": {},
   "outputs": [
    {
     "data": {
      "text/plain": [
       "array([2, 1])"
      ]
     },
     "execution_count": 77,
     "metadata": {},
     "output_type": "execute_result"
    }
   ],
   "source": [
    "def onehot(x):\n",
    "    loc_closest_to_one = lambda x: np.abs(x-1).argmin()\n",
    "    return np.apply_along_axis(loc_closest_to_one, 1, x)\n",
    "\n",
    "onehot(softmax(x)) # column_indeces for each row that point to maximas"
   ]
  },
  {
   "cell_type": "code",
   "execution_count": 82,
   "metadata": {},
   "outputs": [
    {
     "data": {
      "text/plain": [
       "array([ 4.84426023, 20.67797135])"
      ]
     },
     "execution_count": 82,
     "metadata": {},
     "output_type": "execute_result"
    }
   ],
   "source": [
    "def max_(x):\n",
    "    row_indeces = np.arange(x.shape[0]) # enumerate rows\n",
    "    columns_indeces = onehot(softmax(x))\n",
    "    return x[row_indeces, columns_indeces]\n",
    "\n",
    "max_(x)"
   ]
  },
  {
   "cell_type": "markdown",
   "metadata": {},
   "source": [
    "zad. 1.15"
   ]
  },
  {
   "cell_type": "code",
   "execution_count": 75,
   "metadata": {},
   "outputs": [
    {
     "data": {
      "text/plain": [
       "(array([17, 15, 13, 11,  9,  7,  5,  3,  1]), 9)"
      ]
     },
     "execution_count": 75,
     "metadata": {},
     "output_type": "execute_result"
    }
   ],
   "source": [
    "wek = np.arange(17,0,-2)\n",
    "n = wek.size\n",
    "wek, n"
   ]
  },
  {
   "cell_type": "code",
   "execution_count": 76,
   "metadata": {},
   "outputs": [
    {
     "data": {
      "text/plain": [
       "(array([0, 1, 2]), array([7, 8, 9]))"
      ]
     },
     "execution_count": 76,
     "metadata": {},
     "output_type": "execute_result"
    }
   ],
   "source": [
    "k = 3\n",
    "indeces_left = np.arange(k)\n",
    "indeces_right = n + np.arange(-k+1, 1)\n",
    "indeces_left, indeces_right"
   ]
  },
  {
   "cell_type": "code",
   "execution_count": 78,
   "metadata": {},
   "outputs": [
    {
     "data": {
      "text/plain": [
       "(7, 11)"
      ]
     },
     "execution_count": 78,
     "metadata": {},
     "output_type": "execute_result"
    }
   ],
   "source": [
    "min_, max_ = np.sort(wek)[[k, n-k-1]]\n",
    "min_, max_"
   ]
  },
  {
   "cell_type": "code",
   "execution_count": 79,
   "metadata": {},
   "outputs": [
    {
     "data": {
      "text/plain": [
       "array([11,  9,  7])"
      ]
     },
     "execution_count": 79,
     "metadata": {},
     "output_type": "execute_result"
    }
   ],
   "source": [
    "wek[np.arange(k,n-k)]"
   ]
  },
  {
   "cell_type": "code",
   "execution_count": 80,
   "metadata": {},
   "outputs": [
    {
     "data": {
      "text/plain": [
       "9.0"
      ]
     },
     "execution_count": 80,
     "metadata": {},
     "output_type": "execute_result"
    }
   ],
   "source": [
    "np.average(wek[np.arange(k,n-k)])"
   ]
  },
  {
   "cell_type": "code",
   "execution_count": 81,
   "metadata": {},
   "outputs": [
    {
     "data": {
      "text/plain": [
       "9.0"
      ]
     },
     "execution_count": 81,
     "metadata": {},
     "output_type": "execute_result"
    }
   ],
   "source": [
    "np.average(wek[np.arange(k,n-k)])*(n-2*k) / n + (min_ + max_)*k / n"
   ]
  },
  {
   "cell_type": "code",
   "execution_count": 96,
   "metadata": {},
   "outputs": [
    {
     "data": {
      "text/plain": [
       "9.0"
      ]
     },
     "execution_count": 96,
     "metadata": {},
     "output_type": "execute_result"
    }
   ],
   "source": [
    "def windsor_avg(x, k):\n",
    "    n = wek.size\n",
    "    min_, max_ = np.sort(wek)[[k, n-k-1]] # take k'th smallest and largest\n",
    "    middle_indeces = np.arange(k, n-k)\n",
    "    middle_avg = np.average(wek[middle_indeces])\n",
    "    return middle_avg*(n-2*k) / n + (min_ + max_)*k / n\n",
    "\n",
    "windsor_avg(wek, k)"
   ]
  },
  {
   "cell_type": "code",
   "execution_count": 98,
   "metadata": {},
   "outputs": [
    {
     "name": "stdout",
     "output_type": "stream",
     "text": [
      "[1 2 3 4 5 6 7 8 9]\n",
      "[3 3 3 4 5 6 7 7 7]\n"
     ]
    },
    {
     "data": {
      "text/plain": [
       "5.0"
      ]
     },
     "execution_count": 98,
     "metadata": {},
     "output_type": "execute_result"
    }
   ],
   "source": [
    "def windsor_avg2(x, k):\n",
    "    x_sorted = np.sort(x)\n",
    "    print(x_sorted)\n",
    "    x_sorted[:k] = x_sorted[k]\n",
    "    x_sorted[-k:] = x_sorted[-k-1]\n",
    "    print(x_sorted)\n",
    "    return np.mean(x_sorted)\n",
    "\n",
    "wekt = np.arange(1,10)\n",
    "np.random.shuffle(wekt)\n",
    "windsor_avg2(wekt, 2)"
   ]
  },
  {
   "cell_type": "markdown",
   "metadata": {},
   "source": [
    "zad. 1.16"
   ]
  },
  {
   "cell_type": "code",
   "execution_count": 111,
   "metadata": {},
   "outputs": [
    {
     "data": {
      "text/plain": [
       "array([2.42278685e+018, 7.14949447e+118, 1.34540018e+241])"
      ]
     },
     "execution_count": 111,
     "metadata": {},
     "output_type": "execute_result"
    }
   ],
   "source": [
    "n = np.array([20, 80, 140])\n",
    "np.exp( n * (np.log(n)-1) ) * np.sqrt(2*np.pi*n)"
   ]
  },
  {
   "cell_type": "code",
   "execution_count": 114,
   "metadata": {},
   "outputs": [
    {
     "data": {
      "text/plain": [
       "array([-0.00415765, -0.00104112, -0.00059506])"
      ]
     },
     "execution_count": 114,
     "metadata": {},
     "output_type": "execute_result"
    }
   ],
   "source": [
    "def stirling(n):\n",
    "    return np.exp( n * (np.log(n)-1) ) * np.sqrt(2*np.pi*n)\n",
    "\n",
    "stirling(n) / np.fromiter(map(np.math.factorial, n), float)  -  1"
   ]
  },
  {
   "cell_type": "code",
   "execution_count": 124,
   "metadata": {},
   "outputs": [
    {
     "name": "stdout",
     "output_type": "stream",
     "text": [
      "3.24 µs ± 135 ns per loop (mean ± std. dev. of 7 runs, 100000 loops each)\n",
      "1.05 µs ± 22.1 ns per loop (mean ± std. dev. of 7 runs, 1000000 loops each)\n"
     ]
    }
   ],
   "source": [
    "% timeit stirling(140)\n",
    "% timeit np.math.factorial(140)"
   ]
  },
  {
   "cell_type": "markdown",
   "metadata": {},
   "source": [
    "zad. 1.17"
   ]
  },
  {
   "cell_type": "code",
   "execution_count": 107,
   "metadata": {},
   "outputs": [
    {
     "data": {
      "text/plain": [
       "-3.183098853931643e-05"
      ]
     },
     "execution_count": 107,
     "metadata": {},
     "output_type": "execute_result"
    }
   ],
   "source": [
    "bigN = 10_000\n",
    "n = np.arange(bigN)\n",
    "ones_ = np.tile([1,-1], bigN//2)\n",
    "Leiniz_pi = 4*( ones_/(2*n+1) ).sum()\n",
    "\n",
    "Leiniz_pi / np.pi - 1"
   ]
  },
  {
   "cell_type": "markdown",
   "metadata": {},
   "source": [
    "zad. 1.18"
   ]
  },
  {
   "cell_type": "code",
   "execution_count": 157,
   "metadata": {},
   "outputs": [
    {
     "data": {
      "text/plain": [
       "0.0036947331147287876"
      ]
     },
     "execution_count": 157,
     "metadata": {},
     "output_type": "execute_result"
    }
   ],
   "source": [
    "n = 10_000\n",
    "shots = np.random.uniform(-1,1, size=2*n).reshape(n,2)\n",
    "is_in_circle = lambda x: (x[0]**2 + x[1]**2) < 1\n",
    "count_in_circle = np.apply_along_axis(is_in_circle, 1, shots).sum()\n",
    "poormans_pi = count_in_circle * 4 / n\n",
    "\n",
    "poormans_pi / np.pi - 1"
   ]
  },
  {
   "cell_type": "markdown",
   "metadata": {},
   "source": [
    "zad. 1.19\n",
    "    "
   ]
  },
  {
   "cell_type": "code",
   "execution_count": 170,
   "metadata": {},
   "outputs": [
    {
     "data": {
      "text/plain": [
       "(array([nan,  1.,  3., nan]), array([2., 1., 3., 2.]))"
      ]
     },
     "execution_count": 170,
     "metadata": {},
     "output_type": "execute_result"
    }
   ],
   "source": [
    "wekt = np.array([np.nan, 1, 3, np.nan])\n",
    "no_nan_avg = np.mean(wekt[~np.isnan(wekt)])\n",
    "no_nan_wekt = wekt.copy()\n",
    "no_nan_wekt[np.isnan(wekt)] = no_nan_avg\n",
    "wekt, no_nan_wekt"
   ]
  },
  {
   "cell_type": "code",
   "execution_count": 172,
   "metadata": {},
   "outputs": [
    {
     "data": {
      "text/plain": [
       "array([2., 1., 3., 2.])"
      ]
     },
     "execution_count": 172,
     "metadata": {},
     "output_type": "execute_result"
    }
   ],
   "source": [
    "def avg_for_nan(wekt):\n",
    "    no_nan_avg = np.mean(wekt[~np.isnan(wekt)])\n",
    "    no_nan_wekt = wekt.copy()\n",
    "    no_nan_wekt[np.isnan(wekt)] = no_nan_avg\n",
    "    return no_nan_wekt\n",
    "\n",
    "avg_for_nan(wekt)"
   ]
  },
  {
   "cell_type": "code",
   "execution_count": 198,
   "metadata": {},
   "outputs": [
    {
     "data": {
      "text/plain": [
       "2.0"
      ]
     },
     "execution_count": 198,
     "metadata": {},
     "output_type": "execute_result"
    }
   ],
   "source": [
    "np.nanmean(wekt)"
   ]
  },
  {
   "cell_type": "markdown",
   "metadata": {},
   "source": [
    "zad. 1.20"
   ]
  },
  {
   "cell_type": "code",
   "execution_count": 224,
   "metadata": {},
   "outputs": [
    {
     "data": {
      "text/plain": [
       "array([3, 1, 4, 1, 5, 9, 2, 6, 5, 3, 5])"
      ]
     },
     "execution_count": 224,
     "metadata": {},
     "output_type": "execute_result"
    }
   ],
   "source": [
    "n = np.arange(11)\n",
    "( (math.pi * 10**n) % 10 // 1 ).astype(int)"
   ]
  },
  {
   "cell_type": "markdown",
   "metadata": {},
   "source": [
    "zad. 1.21"
   ]
  },
  {
   "cell_type": "code",
   "execution_count": 21,
   "metadata": {},
   "outputs": [
    {
     "data": {
      "text/plain": [
       "array([9, 6, 5, 2, 2, 2, 5, 0, 6, 8, 4, 5, 3, 3, 3, 6, 5, 8])"
      ]
     },
     "execution_count": 21,
     "metadata": {},
     "output_type": "execute_result"
    }
   ],
   "source": [
    "wekt = np.random.randint(0,10, size=18)\n",
    "wekt"
   ]
  },
  {
   "cell_type": "code",
   "execution_count": 24,
   "metadata": {},
   "outputs": [
    {
     "data": {
      "text/plain": [
       "(array([0, 2, 3, 4, 5, 6, 8, 9]), array([1, 3, 3, 1, 4, 3, 2, 1]))"
      ]
     },
     "execution_count": 24,
     "metadata": {},
     "output_type": "execute_result"
    }
   ],
   "source": [
    "elems, counts = np.unique(wekt, return_counts=True)\n",
    "elems, counts"
   ]
  },
  {
   "cell_type": "code",
   "execution_count": 26,
   "metadata": {},
   "outputs": [
    {
     "data": {
      "text/plain": [
       "5"
      ]
     },
     "execution_count": 26,
     "metadata": {},
     "output_type": "execute_result"
    }
   ],
   "source": [
    "elems[np.argmax(counts)]"
   ]
  },
  {
   "cell_type": "code",
   "execution_count": 27,
   "metadata": {},
   "outputs": [
    {
     "data": {
      "text/plain": [
       "5"
      ]
     },
     "execution_count": 27,
     "metadata": {},
     "output_type": "execute_result"
    }
   ],
   "source": [
    "def moda(wekt):\n",
    "    elems, counts = np.unique(wekt, return_counts=True)\n",
    "    return elems[np.argmax(counts)]\n",
    "\n",
    "moda(wekt)"
   ]
  },
  {
   "cell_type": "markdown",
   "metadata": {},
   "source": [
    "zad. 1.22"
   ]
  },
  {
   "cell_type": "code",
   "execution_count": 2,
   "metadata": {},
   "outputs": [],
   "source": [
    "def regresja(x, y):\n",
    "    x_mean = np.mean(x)\n",
    "    y_mean = np.mean(y)\n",
    "    beta_numerator = np.sum( (x-x_mean)*(y-y_mean) )\n",
    "    beta_denomiator = np.sum( (x-x_mean)**2 )\n",
    "    beta = beta_numerator / beta_denomiator\n",
    "    alpha = y_mean - beta * x_mean\n",
    "    return alpha, beta"
   ]
  },
  {
   "cell_type": "code",
   "execution_count": 6,
   "metadata": {},
   "outputs": [
    {
     "data": {
      "image/png": "[encoded data removed]",
      "text/plain": [
       "<matplotlib.figure.Figure at 0x7f3811961588>"
      ]
     },
     "metadata": {},
     "output_type": "display_data"
    }
   ],
   "source": [
    "n = 100\n",
    "x = np.arange(n) + np.random.normal(0,.1*n,size=n)\n",
    "y = .5 * np.arange(n) + np.random.normal(0,.1*n,size=n)\n",
    "alpha, beta = regresja(x, y)\n",
    "\n",
    "import matplotlib.pyplot as plt\n",
    "plt.plot(x,y,'o')\n",
    "\n",
    "x_ = np.arange(np.min(x),np.max(x))\n",
    "plt.plot(x_, alpha + beta*x_, 'r-');"
   ]
  },
  {
   "cell_type": "markdown",
   "metadata": {},
   "source": [
    "1.23"
   ]
  },
  {
   "cell_type": "code",
   "execution_count": 150,
   "metadata": {},
   "outputs": [
    {
     "data": {
      "text/plain": [
       "array([[1, 9, 3, 8],\n",
       "       [8, 5, 4, 5],\n",
       "       [3, 1, 9, 1]])"
      ]
     },
     "execution_count": 150,
     "metadata": {},
     "output_type": "execute_result"
    }
   ],
   "source": [
    "mat = np.random.randint(1, 10, (3,4))\n",
    "mat"
   ]
  },
  {
   "cell_type": "code",
   "execution_count": 151,
   "metadata": {},
   "outputs": [
    {
     "data": {
      "text/plain": [
       "array([[3, 1, 9, 1],\n",
       "       [8, 5, 4, 5],\n",
       "       [1, 9, 3, 8]])"
      ]
     },
     "execution_count": 151,
     "metadata": {},
     "output_type": "execute_result"
    }
   ],
   "source": [
    "mat[::-1]"
   ]
  },
  {
   "cell_type": "markdown",
   "metadata": {},
   "source": [
    "1.24"
   ]
  },
  {
   "cell_type": "code",
   "execution_count": 152,
   "metadata": {},
   "outputs": [
    {
     "data": {
      "text/plain": [
       "array([[8, 3, 9, 1],\n",
       "       [5, 4, 5, 8],\n",
       "       [1, 9, 1, 3]])"
      ]
     },
     "execution_count": 152,
     "metadata": {},
     "output_type": "execute_result"
    }
   ],
   "source": [
    "mat[:,::-1]"
   ]
  },
  {
   "cell_type": "markdown",
   "metadata": {},
   "source": [
    "1.25"
   ]
  },
  {
   "cell_type": "code",
   "execution_count": 319,
   "metadata": {},
   "outputs": [
    {
     "data": {
      "text/plain": [
       "array([[6, 8, 1],\n",
       "       [6, 1, 4],\n",
       "       [2, 1, 9],\n",
       "       [2, 5, 7],\n",
       "       [2, 3, 9],\n",
       "       [4, 4, 3],\n",
       "       [9, 1, 6],\n",
       "       [7, 5, 1]])"
      ]
     },
     "execution_count": 319,
     "metadata": {},
     "output_type": "execute_result"
    }
   ],
   "source": [
    "n = 8\n",
    "d = 3\n",
    "mat = np.random.randint(1, 10, (n,d))\n",
    "mat"
   ]
  },
  {
   "cell_type": "code",
   "execution_count": 320,
   "metadata": {},
   "outputs": [
    {
     "data": {
      "text/plain": [
       "array([[2, 1, 1],\n",
       "       [9, 8, 9]])"
      ]
     },
     "execution_count": 320,
     "metadata": {},
     "output_type": "execute_result"
    }
   ],
   "source": [
    "mins_per_colum = np.apply_along_axis(lambda x: np.min(x), 0, mat)\n",
    "maxs_per_column = np.apply_along_axis(lambda x: np.max(x), 0, mat)\n",
    "np.vstack( (mins_per_colum, maxs_per_column) )"
   ]
  },
  {
   "cell_type": "code",
   "execution_count": 321,
   "metadata": {},
   "outputs": [
    {
     "data": {
      "text/plain": [
       "array([[2, 1, 1],\n",
       "       [9, 8, 9]])"
      ]
     },
     "execution_count": 321,
     "metadata": {},
     "output_type": "execute_result"
    }
   ],
   "source": [
    "mins_per_colum = np.min(mat, axis=0)\n",
    "maxs_per_column = np.max(mat, axis=0)\n",
    "np.vstack( (mins_per_colum, maxs_per_column) )"
   ]
  },
  {
   "cell_type": "code",
   "execution_count": 322,
   "metadata": {},
   "outputs": [
    {
     "data": {
      "text/plain": [
       "array([[2, 1, 1],\n",
       "       [9, 8, 9]])"
      ]
     },
     "execution_count": 322,
     "metadata": {},
     "output_type": "execute_result"
    }
   ],
   "source": [
    "def macierz_okalajaca(mat):\n",
    "    mins_per_colum = np.min(mat, axis=0)\n",
    "    maxs_per_column = np.max(mat, axis=0)\n",
    "    return np.vstack( (mins_per_colum, maxs_per_column) )\n",
    "\n",
    "macierz_okalajaca(mat)"
   ]
  },
  {
   "cell_type": "markdown",
   "metadata": {},
   "source": [
    "1.26"
   ]
  },
  {
   "cell_type": "code",
   "execution_count": 323,
   "metadata": {},
   "outputs": [
    {
     "data": {
      "text/plain": [
       "array([[0, 0, 1, 0, 1],\n",
       "       [0, 1, 0, 0, 0],\n",
       "       [1, 1, 0, 0, 0]])"
      ]
     },
     "execution_count": 323,
     "metadata": {},
     "output_type": "execute_result"
    }
   ],
   "source": [
    "n = 3\n",
    "d = 5\n",
    "m = 4\n",
    "X = np.random.randint(0,2, (n,d))\n",
    "Y = np.random.randint(0,2, (m,d))\n",
    "\n",
    "X # random digits, n rows, d columns"
   ]
  },
  {
   "cell_type": "code",
   "execution_count": 324,
   "metadata": {},
   "outputs": [
    {
     "data": {
      "text/plain": [
       "array([[1, 0, 1, 1, 1],\n",
       "       [0, 1, 0, 0, 0],\n",
       "       [0, 0, 0, 1, 1],\n",
       "       [0, 1, 1, 1, 1]])"
      ]
     },
     "execution_count": 324,
     "metadata": {},
     "output_type": "execute_result"
    }
   ],
   "source": [
    "Y # random digits, m rows, d columns"
   ]
  },
  {
   "cell_type": "code",
   "execution_count": 334,
   "metadata": {},
   "outputs": [
    {
     "name": "stdout",
     "output_type": "stream",
     "text": [
      "[[0 0 1 0 1]\n",
      " [0 1 0 0 0]\n",
      " [1 1 0 0 0]]\n",
      "[[1 0 1 1 1]\n",
      " [0 1 0 0 0]\n",
      " [0 0 0 1 1]\n",
      " [0 1 1 1 1]]\n",
      "[[2 5 4]\n",
      " [3 0 1]\n",
      " [2 3 4]\n",
      " [2 3 4]]\n"
     ]
    },
    {
     "data": {
      "text/plain": [
       "array([0, 1, 0, 0])"
      ]
     },
     "execution_count": 334,
     "metadata": {},
     "output_type": "execute_result"
    }
   ],
   "source": [
    "def wektorR(points1, points2):\n",
    "    print(points1)\n",
    "    print(points2)\n",
    "\n",
    "    # shift shapes to match\n",
    "    points1_ = points1[np.newaxis]    # (n1, m1) -> (1, n1, m1)\n",
    "    points2_ = points2[:, np.newaxis] # (n2, m2) -> (n2, 1, m2)\n",
    "    \n",
    "    # m1 == m2\n",
    "    # get n2 x n1 matrix of the distance_squared along the deepest axis\n",
    "    dist_sqr_matr = np.sum( (points1_- points2_)**2, axis=2)\n",
    "    print(dist_sqr_matr)\n",
    "    \n",
    "    # return localization of least distance_squared\n",
    "    return np.argmin( dist_sqr_matr, axis=1)\n",
    "\n",
    "wektorR(X, Y)"
   ]
  },
  {
   "cell_type": "code",
   "execution_count": 330,
   "metadata": {},
   "outputs": [],
   "source": [
    "from scipy.spatial import distance"
   ]
  },
  {
   "cell_type": "code",
   "execution_count": 335,
   "metadata": {},
   "outputs": [
    {
     "data": {
      "text/plain": [
       "array([0, 1, 0, 0])"
      ]
     },
     "execution_count": 335,
     "metadata": {},
     "output_type": "execute_result"
    }
   ],
   "source": [
    "np.argmin(distance.cdist(X,Y,'sqeuclidean'), axis=0)"
   ]
  },
  {
   "cell_type": "markdown",
   "metadata": {},
   "source": [
    "1.27"
   ]
  },
  {
   "cell_type": "code",
   "execution_count": 312,
   "metadata": {},
   "outputs": [
    {
     "data": {
      "text/plain": [
       "array([4, 4, 2])"
      ]
     },
     "execution_count": 312,
     "metadata": {},
     "output_type": "execute_result"
    }
   ],
   "source": [
    "n = 3\n",
    "k = 6\n",
    "T = np.random.randint(0, k, n)\n",
    "T"
   ]
  },
  {
   "cell_type": "code",
   "execution_count": 257,
   "metadata": {},
   "outputs": [
    {
     "data": {
      "text/plain": [
       "array([[7, 3, 2, 8, 6, 0],\n",
       "       [9, 4, 9, 3, 2, 6],\n",
       "       [8, 7, 8, 0, 0, 4]])"
      ]
     },
     "execution_count": 257,
     "metadata": {},
     "output_type": "execute_result"
    }
   ],
   "source": [
    "mat = np.random.randint(0,10, (n,k))\n",
    "mat"
   ]
  },
  {
   "cell_type": "code",
   "execution_count": 259,
   "metadata": {},
   "outputs": [
    {
     "data": {
      "text/plain": [
       "array([[  7,   3,   2, 999,   6,   0],\n",
       "       [  9,   4,   9, 999,   2,   6],\n",
       "       [  8, 999,   8,   0,   0,   4]])"
      ]
     },
     "execution_count": 259,
     "metadata": {},
     "output_type": "execute_result"
    }
   ],
   "source": [
    "mat[np.arange(T.size),T] = 999\n",
    "mat"
   ]
  },
  {
   "cell_type": "code",
   "execution_count": 313,
   "metadata": {},
   "outputs": [
    {
     "data": {
      "text/plain": [
       "array([[0., 0., 0., 0., 1., 0.],\n",
       "       [0., 0., 0., 0., 1., 0.],\n",
       "       [0., 0., 1., 0., 0., 0.]])"
      ]
     },
     "execution_count": 313,
     "metadata": {},
     "output_type": "execute_result"
    }
   ],
   "source": [
    "def one_hot_encode(T, k):\n",
    "    n = T.size\n",
    "    mat = np.zeros((n,k))\n",
    "    mat[np.arange(n), T] = 1\n",
    "    return mat\n",
    "\n",
    "one_hot_encode(T, k)"
   ]
  },
  {
   "cell_type": "code",
   "execution_count": 315,
   "metadata": {},
   "outputs": [
    {
     "data": {
      "text/plain": [
       "array([[0., 0., 0., 0., 1., 0.],\n",
       "       [0., 0., 0., 0., 1., 0.],\n",
       "       [0., 0., 1., 0., 0., 0.]])"
      ]
     },
     "execution_count": 315,
     "metadata": {},
     "output_type": "execute_result"
    }
   ],
   "source": [
    "def one_hot_encode2(T, k):\n",
    "    n = T.size\n",
    "    return np.eye(k)[T, :]\n",
    "\n",
    "one_hot_encode2(T, k)"
   ]
  },
  {
   "cell_type": "markdown",
   "metadata": {},
   "source": [
    "1.28"
   ]
  },
  {
   "cell_type": "code",
   "execution_count": 297,
   "metadata": {},
   "outputs": [
    {
     "data": {
      "text/plain": [
       "array([[9, 9, 4, 9],\n",
       "       [9, 8, 4, 2],\n",
       "       [4, 4, 6, 8],\n",
       "       [2, 9, 1, 4]])"
      ]
     },
     "execution_count": 297,
     "metadata": {},
     "output_type": "execute_result"
    }
   ],
   "source": [
    "n = 4\n",
    "mat = np.random.randint(0,10, (n,n))\n",
    "mat"
   ]
  },
  {
   "cell_type": "code",
   "execution_count": 298,
   "metadata": {},
   "outputs": [
    {
     "data": {
      "text/plain": [
       "True"
      ]
     },
     "execution_count": 298,
     "metadata": {},
     "output_type": "execute_result"
    }
   ],
   "source": [
    "np.all(mat > 0) # is stochastic_1"
   ]
  },
  {
   "cell_type": "code",
   "execution_count": 299,
   "metadata": {},
   "outputs": [
    {
     "data": {
      "text/plain": [
       "True"
      ]
     },
     "execution_count": 299,
     "metadata": {},
     "output_type": "execute_result"
    }
   ],
   "source": [
    "np.all( np.any(mat > 0, axis=1) ) # is stochastic_2"
   ]
  },
  {
   "cell_type": "code",
   "execution_count": 301,
   "metadata": {},
   "outputs": [
    {
     "data": {
      "text/plain": [
       "True"
      ]
     },
     "execution_count": 301,
     "metadata": {},
     "output_type": "execute_result"
    }
   ],
   "source": [
    "def is_stochastic(mat):\n",
    "    cond_1 = np.all(mat >= 0)\n",
    "    cond_2 = np.all( np.any(mat > 0, axis=1) )\n",
    "    return cond_1 and cond_2\n",
    "\n",
    "is_stochastic(mat)"
   ]
  },
  {
   "cell_type": "code",
   "execution_count": 309,
   "metadata": {},
   "outputs": [
    {
     "data": {
      "text/plain": [
       "array([[0.2903, 0.2903, 0.129 , 0.2903],\n",
       "       [0.3913, 0.3478, 0.1739, 0.087 ],\n",
       "       [0.1818, 0.1818, 0.2727, 0.3636],\n",
       "       [0.125 , 0.5625, 0.0625, 0.25  ]])"
      ]
     },
     "execution_count": 309,
     "metadata": {},
     "output_type": "execute_result"
    }
   ],
   "source": [
    "mat / np.sum(mat, axis=1).reshape(-1,1)"
   ]
  },
  {
   "cell_type": "code",
   "execution_count": 310,
   "metadata": {},
   "outputs": [
    {
     "data": {
      "text/plain": [
       "array([[0.2903, 0.2903, 0.129 , 0.2903],\n",
       "       [0.3913, 0.3478, 0.1739, 0.087 ],\n",
       "       [0.1818, 0.1818, 0.2727, 0.3636],\n",
       "       [0.125 , 0.5625, 0.0625, 0.25  ]])"
      ]
     },
     "execution_count": 310,
     "metadata": {},
     "output_type": "execute_result"
    }
   ],
   "source": [
    "def doStochastycznej(mat):\n",
    "    if not is_stochastic(mat):\n",
    "        return None\n",
    "    return mat / np.sum(mat, axis=1).reshape(-1,1)\n",
    "\n",
    "doStochastycznej(mat)"
   ]
  },
  {
   "cell_type": "markdown",
   "metadata": {},
   "source": [
    "# centroidy? kmins"
   ]
  },
  {
   "cell_type": "code",
   "execution_count": 56,
   "metadata": {},
   "outputs": [
    {
     "data": {
      "image/png": "[encoded data removed]",
      "text/plain": [
       "<matplotlib.figure.Figure at 0x7f380e4e4e48>"
      ]
     },
     "metadata": {},
     "output_type": "display_data"
    }
   ],
   "source": [
    "import matplotlib\n",
    "\n",
    "x1 = np.random.normal(-3,1,100).reshape(50,2)\n",
    "x2 = np.random.normal(3,1.5,100).reshape(50,2)\n",
    "x3 = np.c_[np.random.normal(-5,2,50), np.random.normal(4,1,50)]\n",
    "x = np.r_[x1,x2,x3]\n",
    "\n",
    "A = x\n",
    "k = 3\n",
    "\n",
    "centroids = np.array([[0.3,0.3],[0.3,0],[0,0.3]])\n",
    "\n",
    "A_near_centroid = np.r_[np.repeat(0,50),np.repeat(1,50),np.repeat(2,50)]\n",
    "\n",
    "colors = np.array([\"#FF0000\",\"#00FF00\", \"#0000FF\"])\n",
    "matplotlib.pyplot.scatter(A[:,0],A[:,1],color=colors[A_near_centroid])\n",
    "plt.plot(centroids[:,0], centroids[:,1], 'yo')\n",
    "plt.show()"
   ]
  },
  {
   "cell_type": "code",
   "execution_count": 28,
   "metadata": {},
   "outputs": [
    {
     "data": {
      "text/plain": [
       "array([[-3.7260118 , -2.02647129],\n",
       "       [-3.00790929, -5.02937129],\n",
       "       [-3.49990804, -2.66535377],\n",
       "       [-2.97847251, -2.53633951],\n",
       "       [-3.6000452 , -1.62043435],\n",
       "       [-2.62952228, -3.26593911],\n",
       "       [-3.28607473, -3.24978395],\n",
       "       [-0.03277042, -2.78280376],\n",
       "       [-2.26515236, -1.65287561],\n",
       "       [-1.95178082, -3.18601345],\n",
       "       [-2.98885462, -2.53560451],\n",
       "       [-2.13485829, -4.54975897],\n",
       "       [-2.92337385, -4.45951432],\n",
       "       [-3.31779492, -3.25074274],\n",
       "       [-2.39712236, -4.65008526],\n",
       "       [-3.78672222, -0.3943132 ],\n",
       "       [-3.5663433 , -3.32514452],\n",
       "       [-2.54789155, -3.77639503],\n",
       "       [-0.99813811, -4.80266438],\n",
       "       [-2.86505967, -1.99899215],\n",
       "       [-4.33299539, -2.78425452],\n",
       "       [-2.65722861, -2.55017743],\n",
       "       [-3.63265037, -2.61124982],\n",
       "       [-3.23968076, -6.11010386],\n",
       "       [-2.90847434, -0.68604876],\n",
       "       [-3.05045631, -2.65045842],\n",
       "       [-4.11413865, -2.82886062],\n",
       "       [-3.58199442, -4.03122274],\n",
       "       [-2.6586401 , -1.19377128],\n",
       "       [-2.46946073, -1.33378272],\n",
       "       [-3.49764899, -4.87297336],\n",
       "       [-2.99258398, -3.87518707],\n",
       "       [-2.02913031, -3.83447332],\n",
       "       [-4.52089528, -4.25703737],\n",
       "       [-3.75514496, -5.17968065],\n",
       "       [-2.43614171, -2.00701324],\n",
       "       [-2.32408741, -0.51695738],\n",
       "       [-3.22746472, -2.43410062],\n",
       "       [-5.86793798, -0.95620476],\n",
       "       [-4.49512365, -2.84117227],\n",
       "       [-2.10667629, -2.92398365],\n",
       "       [-2.98182696, -4.46350096],\n",
       "       [-1.48696534, -1.92945649],\n",
       "       [-1.69671663, -3.48551739],\n",
       "       [-2.22126017, -3.51774345],\n",
       "       [-2.71674322, -4.45124671],\n",
       "       [-3.15146445, -4.04813724],\n",
       "       [-2.07715012, -3.51973204],\n",
       "       [-2.79602641, -3.58492271],\n",
       "       [-5.01602129, -2.4975286 ],\n",
       "       [ 7.35498122,  6.73024608],\n",
       "       [ 3.65572161,  6.0118279 ],\n",
       "       [ 2.39961937,  2.75479125],\n",
       "       [ 5.88739782,  2.63425423],\n",
       "       [ 2.71923211,  2.46645643],\n",
       "       [ 4.18875207,  1.68463917],\n",
       "       [ 3.80263396,  4.02504996],\n",
       "       [ 3.73212513,  1.93816127],\n",
       "       [ 4.5810439 ,  5.86009906],\n",
       "       [ 3.33776518,  3.86882183],\n",
       "       [ 3.72935692,  3.43379124],\n",
       "       [ 1.8918876 ,  3.04454049],\n",
       "       [ 3.477737  ,  4.87876671],\n",
       "       [ 3.48361051,  4.12286582],\n",
       "       [ 1.73506863,  1.51453928],\n",
       "       [ 1.39578665,  0.71293489],\n",
       "       [ 3.37330561, -0.8691156 ],\n",
       "       [ 0.30737383,  2.52736129],\n",
       "       [ 1.16477881,  3.89341037],\n",
       "       [ 2.59012671,  4.71929389],\n",
       "       [ 3.66912491, -0.10701509],\n",
       "       [ 3.46568178,  0.6677788 ],\n",
       "       [ 4.3094918 ,  2.12601934],\n",
       "       [ 2.28801155,  3.3862194 ],\n",
       "       [ 1.02567115,  1.04076271],\n",
       "       [ 6.96185083,  2.13354745],\n",
       "       [ 1.21730047,  4.67630751],\n",
       "       [ 5.02394837,  2.63423057],\n",
       "       [ 2.29882893,  5.89001373],\n",
       "       [ 2.3196472 ,  0.19803813],\n",
       "       [ 1.59681904,  1.68217211],\n",
       "       [ 4.49389896,  3.90716436],\n",
       "       [ 3.66403125,  0.22678558],\n",
       "       [ 4.34204238,  3.80668149],\n",
       "       [ 3.85243034,  2.6222358 ],\n",
       "       [ 0.79407178,  1.38714554],\n",
       "       [ 2.25622628,  5.13761281],\n",
       "       [ 2.18224544,  2.18483315],\n",
       "       [ 2.15593115,  0.62397717],\n",
       "       [ 2.65535558,  1.52776642],\n",
       "       [ 3.53281072,  2.84906637],\n",
       "       [ 4.64577563,  4.33401902],\n",
       "       [ 0.9723778 ,  2.34893532],\n",
       "       [ 4.12970218,  2.71487341],\n",
       "       [ 3.49913896,  3.26100539],\n",
       "       [ 1.24310732,  4.08513857],\n",
       "       [ 4.22560097,  0.62517941],\n",
       "       [ 2.79251532,  2.85466103],\n",
       "       [ 2.93875181,  2.49012701],\n",
       "       [ 2.519543  ,  2.92635144],\n",
       "       [-2.73307389,  1.63165197],\n",
       "       [-2.53332115,  6.24391192],\n",
       "       [-6.60920364,  2.87120947],\n",
       "       [-5.53873692,  5.11134261],\n",
       "       [-4.56648838,  4.25804246],\n",
       "       [-4.23388134,  3.13991806],\n",
       "       [-6.05074096,  4.16111848],\n",
       "       [-5.11069965,  4.95243909],\n",
       "       [-3.8296581 ,  3.03162125],\n",
       "       [-3.52943707,  4.02543857],\n",
       "       [-5.13720644,  5.2700177 ],\n",
       "       [-8.67900442,  3.27561144],\n",
       "       [-2.13912267,  4.20411365],\n",
       "       [-4.89134042,  1.97532497],\n",
       "       [-5.31730106,  4.95005449],\n",
       "       [-2.5427122 ,  2.96025048],\n",
       "       [-5.8000457 ,  3.86323586],\n",
       "       [-6.89852261,  3.25925805],\n",
       "       [-3.60824151,  4.91873282],\n",
       "       [-5.678586  ,  4.2353366 ],\n",
       "       [-3.31250689,  3.88350251],\n",
       "       [-4.99473283,  4.36893813],\n",
       "       [-7.02475373,  4.04086879],\n",
       "       [-4.37512161,  3.7664304 ],\n",
       "       [-2.74801922,  4.86166743],\n",
       "       [-8.17402628,  4.72820828],\n",
       "       [-6.31137829,  4.09178142],\n",
       "       [-6.81943517,  4.91627326],\n",
       "       [-6.61878349,  4.34241416],\n",
       "       [-3.03604903,  4.45369322],\n",
       "       [-5.44482465,  2.97326566],\n",
       "       [-7.92434606,  3.15743949],\n",
       "       [-4.10231949,  3.00392149],\n",
       "       [-5.82096434,  3.45886202],\n",
       "       [-7.33171249,  4.63750375],\n",
       "       [-6.20166348,  3.41607824],\n",
       "       [-6.13276959,  5.92474603],\n",
       "       [-5.82420628,  2.91626772],\n",
       "       [-6.89031737,  2.18155426],\n",
       "       [-7.64319025,  2.99722725],\n",
       "       [-4.67747296,  4.62072384],\n",
       "       [-3.38703633,  4.18088406],\n",
       "       [-7.71224218,  3.01184863],\n",
       "       [-4.9159145 ,  3.52315762],\n",
       "       [-5.74622679,  3.9202534 ],\n",
       "       [-4.48387156,  3.05026585],\n",
       "       [-2.20119312,  4.57858595],\n",
       "       [-7.8973941 ,  3.76843285],\n",
       "       [-6.13285696,  5.36135855],\n",
       "       [-0.21038709,  4.45212113]])"
      ]
     },
     "execution_count": 28,
     "metadata": {},
     "output_type": "execute_result"
    }
   ],
   "source": [
    "x"
   ]
  },
  {
   "cell_type": "code",
   "execution_count": 17,
   "metadata": {},
   "outputs": [],
   "source": [
    "from scipy.spatial import distance\n",
    "def nearest(centroids, points):\n",
    "    return np.argmin(distance.cdist(centroids, points,'sqeuclidean'), axis=0)"
   ]
  },
  {
   "cell_type": "code",
   "execution_count": 18,
   "metadata": {},
   "outputs": [
    {
     "data": {
      "text/plain": [
       "array([0, 1, 2])"
      ]
     },
     "execution_count": 18,
     "metadata": {},
     "output_type": "execute_result"
    }
   ],
   "source": [
    "labels = np.arange(centroids.shape[0])\n",
    "labels"
   ]
  },
  {
   "cell_type": "code",
   "execution_count": 19,
   "metadata": {},
   "outputs": [
    {
     "data": {
      "text/plain": [
       "array([2, 1, 2, 1, 1, 1, 1, 2, 2, 2, 2, 1, 1, 2, 2, 1, 2, 1, 2, 2, 2, 2,\n",
       "       1, 2, 1, 1, 1, 2, 1, 2, 2, 1, 1, 2, 1, 2, 1, 1, 1, 2, 1, 2, 1, 1,\n",
       "       2, 2, 1, 1, 2, 1, 0, 0, 2, 0, 0, 0, 0, 0, 0, 0, 0, 0, 0, 0, 0, 0,\n",
       "       0, 0, 0, 0, 0, 0, 0, 1, 0, 0, 0, 0, 0, 0, 0, 0, 0, 0, 1, 0, 0, 0,\n",
       "       0, 0, 0, 0, 0, 0, 0, 0, 0, 0, 1, 0, 2, 2, 2, 2, 2, 2, 2, 2, 2, 2,\n",
       "       2, 2, 2, 2, 2, 2, 2, 2, 2, 2, 2, 2, 2, 2, 2, 2, 2, 2, 2, 0, 2, 2,\n",
       "       2, 2, 2, 2, 2, 2, 2, 2, 2, 2, 2, 2, 2, 2, 2, 2, 2, 2])"
      ]
     },
     "execution_count": 19,
     "metadata": {},
     "output_type": "execute_result"
    }
   ],
   "source": [
    "etiqs = nearest(centroids,x)\n",
    "etiqs"
   ]
  },
  {
   "cell_type": "code",
   "execution_count": 20,
   "metadata": {},
   "outputs": [
    {
     "data": {
      "text/plain": [
       "(False,\n",
       " [array([3.1464943, 2.7431831]),\n",
       "  array([-1.64649254, -3.1405855 ]),\n",
       "  array([-4.72872603,  1.83508066])])"
      ]
     },
     "execution_count": 20,
     "metadata": {},
     "output_type": "execute_result"
    }
   ],
   "source": [
    "new_centroids = []\n",
    "is_step_small = []\n",
    "eps = 1e-4\n",
    "\n",
    "for label in labels:\n",
    "    old_centroid = centroids[label]\n",
    "    new_centroid = np.mean(x[etiqs == label], axis=0)\n",
    "    is_step_small.append(distance.euclidean(old_centroid, new_centroid) < eps)\n",
    "    new_centroids.append(new_centroid)\n",
    "\n",
    "done = np.all(is_step_small)\n",
    "done, new_centroids"
   ]
  },
  {
   "cell_type": "code",
   "execution_count": 21,
   "metadata": {},
   "outputs": [
    {
     "data": {
      "text/plain": [
       "array([0, 1, 2])"
      ]
     },
     "execution_count": 21,
     "metadata": {},
     "output_type": "execute_result"
    }
   ],
   "source": [
    "from scipy.spatial import distance\n",
    "def find_nearest_centroid(centroids, x):\n",
    "    # for each x get index of nearest centroid\n",
    "    # return a list of lenght(x)\n",
    "    return np.argmin(distance.cdist(centroids, x,'sqeuclidean'), axis=0)\n",
    "\n",
    "labels = np.arange(k)\n",
    "labels"
   ]
  },
  {
   "cell_type": "code",
   "execution_count": 38,
   "metadata": {},
   "outputs": [
    {
     "data": {
      "text/plain": [
       "array([[2.29882893, 5.89001373],\n",
       "       [3.49913896, 3.26100539],\n",
       "       [2.3196472 , 0.19803813]])"
      ]
     },
     "execution_count": 38,
     "metadata": {},
     "output_type": "execute_result"
    }
   ],
   "source": [
    "centroids = rand_pick_points(x, k)\n",
    "centroids"
   ]
  },
  {
   "cell_type": "code",
   "execution_count": 39,
   "metadata": {},
   "outputs": [
    {
     "data": {
      "text/plain": [
       "array([0, 1, 2])"
      ]
     },
     "execution_count": 39,
     "metadata": {},
     "output_type": "execute_result"
    }
   ],
   "source": [
    "labels = np.arange(k)\n",
    "labels"
   ]
  },
  {
   "cell_type": "code",
   "execution_count": 41,
   "metadata": {},
   "outputs": [
    {
     "data": {
      "text/plain": [
       "array([2, 2, 2, 2, 2, 2, 2, 2, 2, 2, 2, 2, 2, 2, 2, 2, 2, 2, 2, 2, 2, 2,\n",
       "       2, 2, 2, 2, 2, 2, 2, 2, 2, 2, 2, 2, 2, 2, 2, 2, 2, 2, 2, 2, 2, 2,\n",
       "       2, 2, 2, 2, 2, 2, 0, 0, 1, 1, 1, 1, 1, 1, 0, 1, 1, 1, 0, 1, 2, 2,\n",
       "       2, 2, 0, 0, 2, 2, 1, 1, 2, 1, 0, 1, 0, 2, 2, 1, 2, 1, 1, 2, 0, 1,\n",
       "       2, 2, 1, 1, 2, 1, 1, 0, 2, 1, 1, 1, 2, 0, 2, 0, 0, 0, 0, 0, 0, 0,\n",
       "       0, 0, 0, 2, 0, 2, 0, 0, 0, 0, 0, 0, 0, 0, 0, 0, 0, 0, 0, 0, 2, 0,\n",
       "       2, 0, 0, 0, 0, 2, 2, 2, 0, 0, 0, 0, 0, 0, 0, 0, 0, 0])"
      ]
     },
     "execution_count": 41,
     "metadata": {},
     "output_type": "execute_result"
    }
   ],
   "source": [
    "classification = find_nearest_centroid(centroids, x)\n",
    "classification"
   ]
  },
  {
   "cell_type": "code",
   "execution_count": 45,
   "metadata": {},
   "outputs": [
    {
     "data": {
      "text/plain": [
       "(array([[-5.29209496,  3.92805682],\n",
       "        [ 3.05235001,  2.8362057 ],\n",
       "        [-2.97093072, -3.07470201]]),\n",
       " array([2, 2, 2, 2, 2, 2, 2, 2, 2, 2, 2, 2, 2, 2, 2, 2, 2, 2, 2, 2, 2, 2,\n",
       "        2, 2, 2, 2, 2, 2, 2, 2, 2, 2, 2, 2, 2, 2, 2, 2, 2, 2, 2, 2, 2, 2,\n",
       "        2, 2, 2, 2, 2, 2, 1, 1, 1, 1, 1, 1, 1, 1, 1, 1, 1, 1, 1, 1, 1, 1,\n",
       "        1, 1, 1, 1, 1, 1, 1, 1, 1, 1, 1, 1, 1, 1, 1, 1, 1, 1, 1, 1, 1, 1,\n",
       "        1, 1, 1, 1, 1, 1, 1, 1, 1, 1, 1, 1, 0, 0, 0, 0, 0, 0, 0, 0, 0, 0,\n",
       "        0, 0, 0, 0, 0, 0, 0, 0, 0, 0, 0, 0, 0, 0, 0, 0, 0, 0, 0, 0, 0, 0,\n",
       "        0, 0, 0, 0, 0, 0, 0, 0, 0, 0, 0, 0, 0, 0, 0, 0, 0, 1]))"
      ]
     },
     "execution_count": 45,
     "metadata": {},
     "output_type": "execute_result"
    }
   ],
   "source": [
    "eps = 1e-6\n",
    "\n",
    "\n",
    "done = False\n",
    "\n",
    "while not done:\n",
    "\n",
    "    is_step_small = []\n",
    "\n",
    "    for label in labels:\n",
    "\n",
    "        old_centroid = centroids[label]\n",
    "        new_centroid = np.mean(x[classification == label], axis=0)\n",
    "        step = distance.euclidean(old_centroid, new_centroid)\n",
    "\n",
    "        is_step_small.append(step < eps)\n",
    "        centroids[label] = new_centroid\n",
    "\n",
    "    classification = find_nearest_centroid(centroids, x)\n",
    "\n",
    "    done = np.all(is_step_small)\n",
    "\n",
    "centroids, classification    "
   ]
  },
  {
   "cell_type": "code",
   "execution_count": 46,
   "metadata": {},
   "outputs": [
    {
     "data": {
      "text/plain": [
       "array([[-5.29209496,  3.92805682],\n",
       "       [ 3.05235001,  2.8362057 ],\n",
       "       [-2.97093072, -3.07470201]])"
      ]
     },
     "execution_count": 46,
     "metadata": {},
     "output_type": "execute_result"
    }
   ],
   "source": [
    "centroids"
   ]
  },
  {
   "cell_type": "code",
   "execution_count": 25,
   "metadata": {},
   "outputs": [
    {
     "data": {
      "text/plain": [
       "array([2, 1, 2, 1, 1, 1, 1, 2, 2, 2, 2, 1, 1, 2, 2, 1, 2, 1, 2, 2, 2, 2,\n",
       "       1, 2, 1, 1, 1, 2, 1, 2, 2, 1, 1, 2, 1, 2, 1, 1, 1, 2, 1, 2, 1, 1,\n",
       "       2, 2, 1, 1, 2, 1, 0, 0, 2, 0, 0, 0, 0, 0, 0, 0, 0, 0, 0, 0, 0, 0,\n",
       "       0, 0, 0, 0, 0, 0, 0, 1, 0, 0, 0, 0, 0, 0, 0, 0, 0, 0, 1, 0, 0, 0,\n",
       "       0, 0, 0, 0, 0, 0, 0, 0, 0, 0, 1, 0, 2, 2, 2, 2, 2, 2, 2, 2, 2, 2,\n",
       "       2, 2, 2, 2, 2, 2, 2, 2, 2, 2, 2, 2, 2, 2, 2, 2, 2, 2, 2, 0, 2, 2,\n",
       "       2, 2, 2, 2, 2, 2, 2, 2, 2, 2, 2, 2, 2, 2, 2, 2, 2, 2])"
      ]
     },
     "execution_count": 25,
     "metadata": {},
     "output_type": "execute_result"
    }
   ],
   "source": [
    "etiqs"
   ]
  },
  {
   "cell_type": "code",
   "execution_count": 52,
   "metadata": {},
   "outputs": [],
   "source": [
    "def rand_pick_points(x, k):\n",
    "    rand_indeces = np.random.randint(0, x.shape[0], k)\n",
    "    return x[rand_indeces]\n",
    "\n",
    "from scipy.spatial import distance\n",
    "def find_nearest_centroid(centroids, x):\n",
    "    # for each x get index of nearest centroid\n",
    "    # return a list of len(x)\n",
    "    return np.argmin(distance.cdist(centroids, x, 'sqeuclidean'), axis=0)\n",
    "\n",
    "\n",
    "def k_groups(x, k, eps=1e-6):\n",
    "    \n",
    "    centroids = rand_pick_points(x, k)\n",
    "    labels = np.arange(k)  # indeces of centroids\n",
    "    \n",
    "    # len(classification) == len(x)\n",
    "    classification = find_nearest_centroid(centroids, x)\n",
    "    \n",
    "    done = False\n",
    "    \n",
    "    while not done:\n",
    "\n",
    "        is_step_small = [False]*3\n",
    "\n",
    "        for label in labels:\n",
    "\n",
    "            old_centroid = centroids[label]\n",
    "            new_centroid = np.mean(x[classification == label], axis=0)\n",
    "            step = distance.euclidean(old_centroid, new_centroid)\n",
    "\n",
    "            centroids[label] = new_centroid\n",
    "            is_step_small[label] = step < eps\n",
    "\n",
    "        classification = find_nearest_centroid(centroids, x)\n",
    "\n",
    "        done = np.all(is_step_small)\n",
    "    \n",
    "    return centroids, classification"
   ]
  },
  {
   "cell_type": "code",
   "execution_count": 57,
   "metadata": {},
   "outputs": [
    {
     "data": {
      "text/plain": [
       "array([[-2.64491003, -2.8416546 ],\n",
       "       [-5.15946908,  3.97144942],\n",
       "       [ 2.58141638,  3.12927205]])"
      ]
     },
     "execution_count": 57,
     "metadata": {},
     "output_type": "execute_result"
    }
   ],
   "source": [
    "fin_centroids, fin_classification = k_groups(x, k)\n",
    "fin_centroids"
   ]
  },
  {
   "cell_type": "code",
   "execution_count": 58,
   "metadata": {},
   "outputs": [
    {
     "data": {
      "image/png": "[encoded data removed]",
      "text/plain": [
       "<matplotlib.figure.Figure at 0x7f380eae1630>"
      ]
     },
     "metadata": {},
     "output_type": "display_data"
    }
   ],
   "source": [
    "colors = np.array([\"#FF0000\",\"#00FF00\", \"#0000FF\"])\n",
    "matplotlib.pyplot.scatter(A[:,0],A[:,1],color=colors[fin_classification])\n",
    "plt.plot(fin_centroids[:,0], fin_centroids[:,1], 'yo')\n",
    "plt.show()"
   ]
  },
  {
   "cell_type": "code",
   "execution_count": null,
   "metadata": {},
   "outputs": [],
   "source": []
  }
 ],
 "metadata": {
  "kernelspec": {
   "display_name": "Python 3",
   "language": "python",
   "name": "python3"
  },
  "language_info": {
   "codemirror_mode": {
    "name": "ipython",
    "version": 3
   },
   "file_extension": ".py",
   "mimetype": "text/x-python",
   "name": "python",
   "nbconvert_exporter": "python",
   "pygments_lexer": "ipython3",
   "version": "3.6.4"
  }
 },
 "nbformat": 4,
 "nbformat_minor": 2
}
