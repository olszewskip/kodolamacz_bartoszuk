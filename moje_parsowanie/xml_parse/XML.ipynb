{
 "cells": [
  {
   "cell_type": "code",
   "execution_count": null,
   "metadata": {},
   "outputs": [],
   "source": [
    "# https://www.w3schools.com/xml/xpath_syntax.asp\n",
    "# https://www.w3schools.com/xml/xpath_examples.asp"
   ]
  },
  {
   "cell_type": "code",
   "execution_count": 1,
   "metadata": {},
   "outputs": [],
   "source": [
    "from lxml import etree\n",
    "tree = etree.parse(\"siecKsiegarni.xml\")"
   ]
  },
  {
   "cell_type": "code",
   "execution_count": 2,
   "metadata": {},
   "outputs": [
    {
     "data": {
      "text/plain": [
       "lxml.etree._ElementTree"
      ]
     },
     "execution_count": 2,
     "metadata": {},
     "output_type": "execute_result"
    }
   ],
   "source": [
    "type(tree)"
   ]
  },
  {
   "cell_type": "code",
   "execution_count": 3,
   "metadata": {},
   "outputs": [
    {
     "data": {
      "text/plain": [
       "<Element Siec at 0x7fa354032308>"
      ]
     },
     "execution_count": 3,
     "metadata": {},
     "output_type": "execute_result"
    }
   ],
   "source": [
    "siec = tree.getroot()\n",
    "siec"
   ]
  },
  {
   "cell_type": "code",
   "execution_count": 4,
   "metadata": {},
   "outputs": [
    {
     "name": "stdout",
     "output_type": "stream",
     "text": [
      "b'<Siec nazwa=\"CiekaweKsiazki\">\\n\\n\\t<Ksiegarnia adres=\"Aleje Jerozolimskie\">\\n\\t<Wlasciciel imie=\"Maja\" nazwisko=\"Kowalska\"/>\\n\\t<Ksiazka gatunek=\"Fantasy\" autor=\"Brent Weeks\" liczba=\"3\">\\n\\tOkaleczone oko\\n\\t</Ksiazka>\\n\\t<Ksiazka gatunek=\"Fantasy\" autor=\"Brent Weeks\" liczba=\"1\">\\n\\tO&#347;lepiaj&#261;cy n&#243;&#380;\\n\\t</Ksiazka>\\n\\t<Ksiazka gatunek=\"Fantasy\" autor=\"Brent Weeks\" liczba=\"2\">\\n\\tCzarny Pryzmat\\n\\t</Ksiazka>\\n\\t<Ksiazka gatunek=\"Fantasy\" autor=\"Brent Weeks\" liczba=\"5\">\\n\\tKrwawe Zwierciad&#322;o\\n\\t</Ksiazka>\\n\\t</Ksiegarnia>\\n\\n\\t<Ksiegarnia adres=\"3 Maja\">\\n\\t<Wlasciciel imie=\"Matylda\" nazwisko=\"Jankowska\"/>\\n\\t<Ksiazka gatunek=\"Fantasy\" autor=\"Brent Weeks\" liczba=\"1\">\\n\\tCzarny Pryzmat\\n\\t</Ksiazka>\\n\\t<Ksiazka gatunek=\"Fantasy\" autor=\"Brent Weeks\" liczba=\"2\">\\n\\tKrwawe Zwierciad&#322;o\\n\\t</Ksiazka>\\n\\t<Ksiazka gatunek=\"Klasyka\" autor=\"Jane Austen\" liczba=\"3\">\\n\\tDuma i uprzedzenie\\n\\t</Ksiazka>\\n\\t</Ksiegarnia>\\n\\n\\t<Ksiegarnia adres=\"Marywilska\">\\n\\t<Wlasciciel imie=\"Jan\" nazwisko=\"Nowak\"/>\\n\\t<Ksiazka gatunek=\"Fantasy\" autor=\"Brent Weeks\">\\n\\tOkaleczone oko\\n\\t</Ksiazka>\\n\\t<Ksiazka gatunek=\"Fantasy\" autor=\"Brent Weeks\">\\n\\tO&#347;lepiaj&#261;cy n&#243;&#380;\\n\\t</Ksiazka>\\n\\t<Ksiazka gatunek=\"Klasyka\" autor=\"Jane Austen\">\\n\\tDuma i uprzedzenie\\n\\t</Ksiazka>\\n\\t</Ksiegarnia>\\n\\n</Siec>\\n'\n"
     ]
    }
   ],
   "source": [
    "print(etree.tostring(siec, pretty_print=True))"
   ]
  },
  {
   "cell_type": "code",
   "execution_count": 9,
   "metadata": {},
   "outputs": [
    {
     "name": "stdout",
     "output_type": "stream",
     "text": [
      "<Element Siec at 0x7fa354032308>\n"
     ]
    }
   ],
   "source": [
    "import pprint\n",
    "pp = pprint.PrettyPrinter(depth=6)\n",
    "pp.pprint(siec)"
   ]
  },
  {
   "cell_type": "code",
   "execution_count": 5,
   "metadata": {},
   "outputs": [
    {
     "data": {
      "text/plain": [
       "'Siec'"
      ]
     },
     "execution_count": 5,
     "metadata": {},
     "output_type": "execute_result"
    }
   ],
   "source": [
    "siec.tag"
   ]
  },
  {
   "cell_type": "code",
   "execution_count": 6,
   "metadata": {},
   "outputs": [
    {
     "data": {
      "text/plain": [
       "['nazwa']"
      ]
     },
     "execution_count": 6,
     "metadata": {},
     "output_type": "execute_result"
    }
   ],
   "source": [
    "siec.keys()"
   ]
  },
  {
   "cell_type": "code",
   "execution_count": 10,
   "metadata": {},
   "outputs": [
    {
     "data": {
      "text/plain": [
       "'CiekaweKsiazki'"
      ]
     },
     "execution_count": 10,
     "metadata": {},
     "output_type": "execute_result"
    }
   ],
   "source": [
    "siec.get(\"nazwa\")"
   ]
  },
  {
   "cell_type": "code",
   "execution_count": 13,
   "metadata": {},
   "outputs": [
    {
     "data": {
      "text/plain": [
       "'Fantasy'"
      ]
     },
     "execution_count": 13,
     "metadata": {},
     "output_type": "execute_result"
    }
   ],
   "source": [
    "ksiazka = siec[0][1]\n",
    "ksiazka.get(\"gatunek\")"
   ]
  },
  {
   "cell_type": "code",
   "execution_count": 14,
   "metadata": {},
   "outputs": [
    {
     "name": "stdout",
     "output_type": "stream",
     "text": [
      "b'<Ksiazka gatunek=\"Fantasy\" autor=\"Brent Weeks\" liczba=\"3\">\\n\\tOkaleczone oko\\n\\t</Ksiazka>\\n\\t\\n'\n"
     ]
    }
   ],
   "source": [
    "print(etree.tostring(ksiazka, pretty_print=True))"
   ]
  },
  {
   "cell_type": "code",
   "execution_count": 16,
   "metadata": {},
   "outputs": [
    {
     "data": {
      "text/plain": [
       "'Okaleczone oko'"
      ]
     },
     "execution_count": 16,
     "metadata": {},
     "output_type": "execute_result"
    }
   ],
   "source": [
    "ksiazka.text.strip()"
   ]
  },
  {
   "cell_type": "code",
   "execution_count": 17,
   "metadata": {},
   "outputs": [
    {
     "data": {
      "text/plain": [
       "[<Element Ksiegarnia at 0x7fa33dc87308>,\n",
       " <Element Ksiegarnia at 0x7fa33dc876c8>,\n",
       " <Element Ksiegarnia at 0x7fa33dc87848>]"
      ]
     },
     "execution_count": 17,
     "metadata": {},
     "output_type": "execute_result"
    }
   ],
   "source": [
    "siec.xpath(\"/Siec/*\")"
   ]
  },
  {
   "cell_type": "code",
   "execution_count": 18,
   "metadata": {},
   "outputs": [
    {
     "data": {
      "text/plain": [
       "[<Element Wlasciciel at 0x7fa33dc87408>,\n",
       " <Element Ksiazka at 0x7fa33dc87288>,\n",
       " <Element Ksiazka at 0x7fa33dc877c8>,\n",
       " <Element Ksiazka at 0x7fa33dc87a88>,\n",
       " <Element Ksiazka at 0x7fa33dc87ac8>,\n",
       " <Element Wlasciciel at 0x7fa33dc87b48>,\n",
       " <Element Ksiazka at 0x7fa33dc87b88>,\n",
       " <Element Ksiazka at 0x7fa33dc87bc8>,\n",
       " <Element Ksiazka at 0x7fa33dc87c08>,\n",
       " <Element Wlasciciel at 0x7fa33dc87b08>,\n",
       " <Element Ksiazka at 0x7fa33dc87c48>,\n",
       " <Element Ksiazka at 0x7fa33dc87c88>,\n",
       " <Element Ksiazka at 0x7fa33dc87cc8>]"
      ]
     },
     "execution_count": 18,
     "metadata": {},
     "output_type": "execute_result"
    }
   ],
   "source": [
    "siec.xpath(\"/Siec/Ksiegarnia/*\")"
   ]
  },
  {
   "cell_type": "code",
   "execution_count": 21,
   "metadata": {},
   "outputs": [
    {
     "data": {
      "text/plain": [
       "[<Element Wlasciciel at 0x7fa33dc87408>,\n",
       " <Element Ksiazka at 0x7fa33dc87288>,\n",
       " <Element Ksiazka at 0x7fa33dc877c8>,\n",
       " <Element Ksiazka at 0x7fa33dc87a88>,\n",
       " <Element Ksiazka at 0x7fa33dc87ac8>,\n",
       " <Element Wlasciciel at 0x7fa33dc87b48>,\n",
       " <Element Ksiazka at 0x7fa33dc87b88>,\n",
       " <Element Ksiazka at 0x7fa33dc87bc8>,\n",
       " <Element Ksiazka at 0x7fa33dc87c08>,\n",
       " <Element Wlasciciel at 0x7fa33dc87b08>,\n",
       " <Element Ksiazka at 0x7fa33dc87c48>,\n",
       " <Element Ksiazka at 0x7fa33dc87c88>,\n",
       " <Element Ksiazka at 0x7fa33dc87cc8>]"
      ]
     },
     "execution_count": 21,
     "metadata": {},
     "output_type": "execute_result"
    }
   ],
   "source": [
    "siec.xpath(\"Ksiegarnia/*\")"
   ]
  },
  {
   "cell_type": "code",
   "execution_count": 23,
   "metadata": {},
   "outputs": [
    {
     "data": {
      "text/plain": [
       "[]"
      ]
     },
     "execution_count": 23,
     "metadata": {},
     "output_type": "execute_result"
    }
   ],
   "source": [
    "ksiazka.xpath(\"Ksiegarnia/*\")"
   ]
  },
  {
   "cell_type": "code",
   "execution_count": 24,
   "metadata": {},
   "outputs": [
    {
     "data": {
      "text/plain": [
       "[<Element Wlasciciel at 0x7fa33dc87408>,\n",
       " <Element Ksiazka at 0x7fa33dc87288>,\n",
       " <Element Ksiazka at 0x7fa33dc877c8>,\n",
       " <Element Ksiazka at 0x7fa33dc87a88>,\n",
       " <Element Ksiazka at 0x7fa33dc87ac8>,\n",
       " <Element Wlasciciel at 0x7fa33dc87b48>,\n",
       " <Element Ksiazka at 0x7fa33dc87b88>,\n",
       " <Element Ksiazka at 0x7fa33dc87bc8>,\n",
       " <Element Ksiazka at 0x7fa33dc87c08>,\n",
       " <Element Wlasciciel at 0x7fa33dc87b08>,\n",
       " <Element Ksiazka at 0x7fa33dc87c48>,\n",
       " <Element Ksiazka at 0x7fa33dc87c88>,\n",
       " <Element Ksiazka at 0x7fa33dc87cc8>]"
      ]
     },
     "execution_count": 24,
     "metadata": {},
     "output_type": "execute_result"
    }
   ],
   "source": [
    "ksiazka.xpath(\"/Siec/Ksiegarnia/*\")"
   ]
  },
  {
   "cell_type": "code",
   "execution_count": 25,
   "metadata": {},
   "outputs": [
    {
     "data": {
      "text/plain": [
       "[<Element Wlasciciel at 0x7fa33dc87408>,\n",
       " <Element Ksiazka at 0x7fa33dc87288>,\n",
       " <Element Ksiazka at 0x7fa33dc877c8>,\n",
       " <Element Ksiazka at 0x7fa33dc87a88>,\n",
       " <Element Ksiazka at 0x7fa33dc87ac8>,\n",
       " <Element Wlasciciel at 0x7fa33dc87b48>,\n",
       " <Element Ksiazka at 0x7fa33dc87b88>,\n",
       " <Element Ksiazka at 0x7fa33dc87bc8>,\n",
       " <Element Ksiazka at 0x7fa33dc87c08>,\n",
       " <Element Wlasciciel at 0x7fa33dc87b08>,\n",
       " <Element Ksiazka at 0x7fa33dc87c48>,\n",
       " <Element Ksiazka at 0x7fa33dc87c88>,\n",
       " <Element Ksiazka at 0x7fa33dc87cc8>]"
      ]
     },
     "execution_count": 25,
     "metadata": {},
     "output_type": "execute_result"
    }
   ],
   "source": [
    "ksiazka.xpath(\"//Ksiegarnia/*\")"
   ]
  },
  {
   "cell_type": "code",
   "execution_count": 26,
   "metadata": {},
   "outputs": [
    {
     "data": {
      "text/plain": [
       "['Maja', 'Matylda', 'Jan']"
      ]
     },
     "execution_count": 26,
     "metadata": {},
     "output_type": "execute_result"
    }
   ],
   "source": [
    "siec.xpath(\"//@imie\")"
   ]
  },
  {
   "cell_type": "markdown",
   "metadata": {},
   "source": [
    "# 1.7"
   ]
  },
  {
   "cell_type": "markdown",
   "metadata": {},
   "source": [
    "## a. Wylistuj, pod jakimi adresami znajdują się księgarnie w tej sieci księgarni"
   ]
  },
  {
   "cell_type": "code",
   "execution_count": 27,
   "metadata": {},
   "outputs": [
    {
     "data": {
      "text/plain": [
       "['Aleje Jerozolimskie', '3 Maja', 'Marywilska']"
      ]
     },
     "execution_count": 27,
     "metadata": {},
     "output_type": "execute_result"
    }
   ],
   "source": [
    "siec.xpath(\"//@adres\")"
   ]
  },
  {
   "cell_type": "markdown",
   "metadata": {},
   "source": [
    "## b. Jakie są dostępne wszystkie książki w tej sieci księgarni"
   ]
  },
  {
   "cell_type": "code",
   "execution_count": 30,
   "metadata": {},
   "outputs": [
    {
     "data": {
      "text/plain": [
       "['\\n\\tOkaleczone oko\\n\\t',\n",
       " '\\n\\tOślepiający nóż\\n\\t',\n",
       " '\\n\\tCzarny Pryzmat\\n\\t',\n",
       " '\\n\\tKrwawe Zwierciadło\\n\\t',\n",
       " '\\n\\tCzarny Pryzmat\\n\\t',\n",
       " '\\n\\tKrwawe Zwierciadło\\n\\t',\n",
       " '\\n\\tDuma i uprzedzenie\\n\\t',\n",
       " '\\n\\tOkaleczone oko\\n\\t',\n",
       " '\\n\\tOślepiający nóż\\n\\t',\n",
       " '\\n\\tDuma i uprzedzenie\\n\\t']"
      ]
     },
     "execution_count": 30,
     "metadata": {},
     "output_type": "execute_result"
    }
   ],
   "source": [
    "siec.xpath(\"//Ksiazka/text()\")"
   ]
  },
  {
   "cell_type": "code",
   "execution_count": 33,
   "metadata": {},
   "outputs": [
    {
     "data": {
      "text/plain": [
       "['\\n\\tOkaleczone oko\\n\\t',\n",
       " '\\n\\tOślepiający nóż\\n\\t',\n",
       " '\\n\\tCzarny Pryzmat\\n\\t',\n",
       " '\\n\\tKrwawe Zwierciadło\\n\\t',\n",
       " '\\n\\tCzarny Pryzmat\\n\\t',\n",
       " '\\n\\tKrwawe Zwierciadło\\n\\t',\n",
       " '\\n\\tDuma i uprzedzenie\\n\\t',\n",
       " '\\n\\tOkaleczone oko\\n\\t',\n",
       " '\\n\\tOślepiający nóż\\n\\t',\n",
       " '\\n\\tDuma i uprzedzenie\\n\\t']"
      ]
     },
     "execution_count": 33,
     "metadata": {},
     "output_type": "execute_result"
    }
   ],
   "source": [
    "siec.xpath(\"/Siec/Ksiegarnia/Ksiazka/text()\")"
   ]
  },
  {
   "cell_type": "code",
   "execution_count": 34,
   "metadata": {},
   "outputs": [
    {
     "data": {
      "text/plain": [
       "['\\n\\tOkaleczone oko\\n\\t',\n",
       " '\\n\\tOślepiający nóż\\n\\t',\n",
       " '\\n\\tCzarny Pryzmat\\n\\t',\n",
       " '\\n\\tKrwawe Zwierciadło\\n\\t',\n",
       " '\\n\\tCzarny Pryzmat\\n\\t',\n",
       " '\\n\\tKrwawe Zwierciadło\\n\\t',\n",
       " '\\n\\tDuma i uprzedzenie\\n\\t',\n",
       " '\\n\\tOkaleczone oko\\n\\t',\n",
       " '\\n\\tOślepiający nóż\\n\\t',\n",
       " '\\n\\tDuma i uprzedzenie\\n\\t']"
      ]
     },
     "execution_count": 34,
     "metadata": {},
     "output_type": "execute_result"
    }
   ],
   "source": [
    "siec.xpath(\"Ksiegarnia/Ksiazka/text()\")"
   ]
  },
  {
   "cell_type": "code",
   "execution_count": 37,
   "metadata": {},
   "outputs": [
    {
     "data": {
      "text/plain": [
       "['\\n\\n\\t', '\\n\\n\\t', '\\n\\n\\t', '\\n\\n']"
      ]
     },
     "execution_count": 37,
     "metadata": {},
     "output_type": "execute_result"
    }
   ],
   "source": [
    "siec.xpath(\"text()\")"
   ]
  },
  {
   "cell_type": "markdown",
   "metadata": {},
   "source": [
    "## c. Jakie są dostępne wszystkie książki w tej sieci księgarni, które są z gatunku Fantasy"
   ]
  },
  {
   "cell_type": "code",
   "execution_count": 38,
   "metadata": {},
   "outputs": [
    {
     "data": {
      "text/plain": [
       "['\\n\\tOkaleczone oko\\n\\t',\n",
       " '\\n\\tOślepiający nóż\\n\\t',\n",
       " '\\n\\tCzarny Pryzmat\\n\\t',\n",
       " '\\n\\tKrwawe Zwierciadło\\n\\t',\n",
       " '\\n\\tCzarny Pryzmat\\n\\t',\n",
       " '\\n\\tKrwawe Zwierciadło\\n\\t',\n",
       " '\\n\\tOkaleczone oko\\n\\t',\n",
       " '\\n\\tOślepiający nóż\\n\\t']"
      ]
     },
     "execution_count": 38,
     "metadata": {},
     "output_type": "execute_result"
    }
   ],
   "source": [
    "siec.xpath(\"/Siec/Ksiegarnia/Ksiazka[@gatunek='Fantasy']/text()\")"
   ]
  },
  {
   "cell_type": "code",
   "execution_count": 41,
   "metadata": {},
   "outputs": [
    {
     "data": {
      "text/plain": [
       "{'Fantasy', 'Klasyka'}"
      ]
     },
     "execution_count": 41,
     "metadata": {},
     "output_type": "execute_result"
    }
   ],
   "source": [
    "set(siec.xpath(\"/Siec/Ksiegarnia/Ksiazka/@gatunek\"))"
   ]
  },
  {
   "cell_type": "code",
   "execution_count": 43,
   "metadata": {},
   "outputs": [
    {
     "data": {
      "text/plain": [
       "['Fantasy',\n",
       " 'Fantasy',\n",
       " 'Fantasy',\n",
       " 'Fantasy',\n",
       " 'Fantasy',\n",
       " 'Fantasy',\n",
       " 'Klasyka',\n",
       " 'Fantasy',\n",
       " 'Fantasy',\n",
       " 'Klasyka']"
      ]
     },
     "execution_count": 43,
     "metadata": {},
     "output_type": "execute_result"
    }
   ],
   "source": [
    "siec.xpath(\"/Siec/Ksiegarnia/Ksiazka/@gatunek\")"
   ]
  },
  {
   "cell_type": "code",
   "execution_count": 44,
   "metadata": {},
   "outputs": [
    {
     "data": {
      "text/plain": [
       "['Fantasy',\n",
       " 'Fantasy',\n",
       " 'Fantasy',\n",
       " 'Fantasy',\n",
       " 'Fantasy',\n",
       " 'Fantasy',\n",
       " 'Fantasy',\n",
       " 'Fantasy']"
      ]
     },
     "execution_count": 44,
     "metadata": {},
     "output_type": "execute_result"
    }
   ],
   "source": [
    "siec.xpath(\"/Siec/Ksiegarnia/Ksiazka[@gatunek='Fantasy']/@gatunek\")"
   ]
  },
  {
   "cell_type": "markdown",
   "metadata": {},
   "source": [
    "## d. Wylistuj w ładnej formie wszystkie książki w tej sieci księgarni, które są z gatunku Fantasy, wraz z adresami księgarni, gdzie można je nabyć "
   ]
  },
  {
   "cell_type": "code",
   "execution_count": 58,
   "metadata": {},
   "outputs": [
    {
     "data": {
      "text/plain": [
       "range(0, 9)"
      ]
     },
     "execution_count": 58,
     "metadata": {},
     "output_type": "execute_result"
    }
   ],
   "source": [
    "range(9)"
   ]
  },
  {
   "cell_type": "code",
   "execution_count": 57,
   "metadata": {},
   "outputs": [
    {
     "name": "stdout",
     "output_type": "stream",
     "text": [
      "Okaleczone oko  --  Aleje Jerozolimskie\n",
      "Oślepiający nóż  --  Aleje Jerozolimskie\n",
      "Czarny Pryzmat  --  Aleje Jerozolimskie\n",
      "Krwawe Zwierciadło  --  Aleje Jerozolimskie\n",
      "Czarny Pryzmat  --  3 Maja\n",
      "Krwawe Zwierciadło  --  3 Maja\n",
      "Okaleczone oko  --  Marywilska\n",
      "Oślepiający nóż  --  Marywilska\n"
     ]
    }
   ],
   "source": [
    "ksiazki = siec.xpath(\"//Ksiazka[@gatunek='Fantasy']\") # ten xpath wybiera ksiazki\n",
    "ksiegarnie = siec.xpath(\"//Ksiazka[@gatunek='Fantasy']/../@adres\") # ten xpath wybiera tak samo ksiazki, a potem z nich idzie do ich rodzicow\n",
    "\n",
    "for i in range(len(ksiazki)):\n",
    "    print(ksiazki[i].text.strip(), \" -- \", ksiazki[i].getparent().get(\"adres\"))"
   ]
  },
  {
   "cell_type": "code",
   "execution_count": 53,
   "metadata": {},
   "outputs": [
    {
     "data": {
      "text/plain": [
       "[<Element Siec at 0x7fa354032308>,\n",
       " <Element Ksiegarnia at 0x7fa33dc87308>,\n",
       " <Element Ksiegarnia at 0x7fa33dc876c8>,\n",
       " <Element Ksiegarnia at 0x7fa33dc87848>]"
      ]
     },
     "execution_count": 53,
     "metadata": {},
     "output_type": "execute_result"
    }
   ],
   "source": [
    "siec.xpath(\"//Ksiazka[@gatunek='Fantasy']/ancestor::*\")"
   ]
  },
  {
   "cell_type": "code",
   "execution_count": 49,
   "metadata": {},
   "outputs": [
    {
     "data": {
      "text/plain": [
       "['Aleje Jerozolimskie', '3 Maja', 'Marywilska']"
      ]
     },
     "execution_count": 49,
     "metadata": {},
     "output_type": "execute_result"
    }
   ],
   "source": [
    "siec.xpath(\"//Ksiazka[@gatunek='Fantasy']/../@adres\")"
   ]
  },
  {
   "cell_type": "code",
   "execution_count": 46,
   "metadata": {},
   "outputs": [
    {
     "data": {
      "text/plain": [
       "[<Element Siec at 0x7fa354032308>]"
      ]
     },
     "execution_count": 46,
     "metadata": {},
     "output_type": "execute_result"
    }
   ],
   "source": [
    "siec.xpath(\"//Ksiegarnia/..\")"
   ]
  },
  {
   "cell_type": "markdown",
   "metadata": {},
   "source": [
    "## e. Wylistuj w ładnej formie, obok siebie, adres księgarni i nazwisko jej właściciela"
   ]
  },
  {
   "cell_type": "code",
   "execution_count": 59,
   "metadata": {},
   "outputs": [
    {
     "name": "stdout",
     "output_type": "stream",
     "text": [
      "Aleje Jerozolimskie  --  Kowalska\n",
      "3 Maja  --  Jankowska\n",
      "Marywilska  --  Nowak\n"
     ]
    }
   ],
   "source": [
    "ksiegarnie = siec.xpath(\"//Ksiegarnia\")\n",
    "\n",
    "for i in range(len(ksiegarnie)):\n",
    "    print(ksiegarnie[i].get(\"adres\"), \" -- \", ksiegarnie[i].xpath(\"Wlasciciel/@nazwisko\")[0])"
   ]
  },
  {
   "cell_type": "markdown",
   "metadata": {},
   "source": [
    "## f. Znajdź adres księgarni, gdzie właścicielem jest Matylda Jankowska"
   ]
  },
  {
   "cell_type": "code",
   "execution_count": 61,
   "metadata": {},
   "outputs": [
    {
     "data": {
      "text/plain": [
       "['3 Maja']"
      ]
     },
     "execution_count": 61,
     "metadata": {},
     "output_type": "execute_result"
    }
   ],
   "source": [
    "siec.xpath(\"//Wlasciciel[@imie='Matylda' and @nazwisko='Jankowska']/../@adres\")"
   ]
  },
  {
   "cell_type": "code",
   "execution_count": 63,
   "metadata": {},
   "outputs": [
    {
     "data": {
      "text/plain": [
       "'3 Maja'"
      ]
     },
     "execution_count": 63,
     "metadata": {},
     "output_type": "execute_result"
    }
   ],
   "source": [
    "siec.xpath(\"//Wlasciciel[@imie='Matylda' and @nazwisko='Jankowska']/..\")[0].get(\"adres\")"
   ]
  },
  {
   "cell_type": "markdown",
   "metadata": {},
   "source": [
    "## g. Jakie są dostępne wszystkie książki w księgarni przy ulicy 3 Maja, których autorem jest Jane Austen"
   ]
  },
  {
   "cell_type": "code",
   "execution_count": 67,
   "metadata": {},
   "outputs": [
    {
     "data": {
      "text/plain": [
       "['\\n\\tDuma i uprzedzenie\\n\\t']"
      ]
     },
     "execution_count": 67,
     "metadata": {},
     "output_type": "execute_result"
    }
   ],
   "source": [
    "siec.xpath(\"//Ksiegarnia[@adres='3 Maja']/Ksiazka[@autor='Jane Austen']/text()\")"
   ]
  },
  {
   "cell_type": "markdown",
   "metadata": {},
   "source": [
    "## h. Jakie są książki z atrybutem liczba"
   ]
  },
  {
   "cell_type": "code",
   "execution_count": 69,
   "metadata": {},
   "outputs": [
    {
     "data": {
      "text/plain": [
       "['\\n\\tOkaleczone oko\\n\\t',\n",
       " '\\n\\tOślepiający nóż\\n\\t',\n",
       " '\\n\\tCzarny Pryzmat\\n\\t',\n",
       " '\\n\\tKrwawe Zwierciadło\\n\\t',\n",
       " '\\n\\tCzarny Pryzmat\\n\\t',\n",
       " '\\n\\tKrwawe Zwierciadło\\n\\t',\n",
       " '\\n\\tDuma i uprzedzenie\\n\\t']"
      ]
     },
     "execution_count": 69,
     "metadata": {},
     "output_type": "execute_result"
    }
   ],
   "source": [
    "siec.xpath(\"//Ksiazka[@liczba]/text()\")"
   ]
  },
  {
   "cell_type": "markdown",
   "metadata": {},
   "source": [
    "## i. Książki, których liczba jest większa lub równa 3"
   ]
  },
  {
   "cell_type": "code",
   "execution_count": 70,
   "metadata": {},
   "outputs": [
    {
     "data": {
      "text/plain": [
       "['\\n\\tOkaleczone oko\\n\\t',\n",
       " '\\n\\tKrwawe Zwierciadło\\n\\t',\n",
       " '\\n\\tDuma i uprzedzenie\\n\\t']"
      ]
     },
     "execution_count": 70,
     "metadata": {},
     "output_type": "execute_result"
    }
   ],
   "source": [
    "siec.xpath(\"//Ksiazka[@liczba >= 3]/text()\")"
   ]
  }
 ],
 "metadata": {
  "kernelspec": {
   "display_name": "Python 3",
   "language": "python",
   "name": "python3"
  },
  "language_info": {
   "codemirror_mode": {
    "name": "ipython",
    "version": 3
   },
   "file_extension": ".py",
   "mimetype": "text/x-python",
   "name": "python",
   "nbconvert_exporter": "python",
   "pygments_lexer": "ipython3",
   "version": "3.6.5"
  }
 },
 "nbformat": 4,
 "nbformat_minor": 2
}
