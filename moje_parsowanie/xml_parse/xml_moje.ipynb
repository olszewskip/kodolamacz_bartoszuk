{
 "cells": [
  {
   "cell_type": "code",
   "execution_count": 1,
   "metadata": {},
   "outputs": [],
   "source": [
    "# https://www.w3schools.com/xml/xpath_syntax.asp\n",
    "# https://www.w3schools.com/xml/xpath_examples.asp"
   ]
  },
  {
   "cell_type": "code",
   "execution_count": 3,
   "metadata": {},
   "outputs": [],
   "source": [
    "from lxml import etree\n",
    "tree = etree.parse(\"siecKsiegarni.xml\")"
   ]
  },
  {
   "cell_type": "code",
   "execution_count": 5,
   "metadata": {},
   "outputs": [
    {
     "data": {
      "text/plain": [
       "lxml.etree._ElementTree"
      ]
     },
     "execution_count": 5,
     "metadata": {},
     "output_type": "execute_result"
    }
   ],
   "source": [
    "type(tree)"
   ]
  },
  {
   "cell_type": "code",
   "execution_count": 6,
   "metadata": {},
   "outputs": [
    {
     "data": {
      "text/plain": [
       "<Element Siec at 0x7fe4116bd388>"
      ]
     },
     "execution_count": 6,
     "metadata": {},
     "output_type": "execute_result"
    }
   ],
   "source": [
    "siec = tree.getroot()\n",
    "siec"
   ]
  },
  {
   "cell_type": "code",
   "execution_count": 7,
   "metadata": {},
   "outputs": [
    {
     "name": "stdout",
     "output_type": "stream",
     "text": [
      "<Element Siec at 0x7fe4116bd388>\n"
     ]
    }
   ],
   "source": [
    "import pprint\n",
    "pp = pprint.PrettyPrinter(depth=6)\n",
    "pp.pprint(siec)"
   ]
  },
  {
   "cell_type": "code",
   "execution_count": 12,
   "metadata": {},
   "outputs": [
    {
     "data": {
      "text/plain": [
       "'Siec'"
      ]
     },
     "execution_count": 12,
     "metadata": {},
     "output_type": "execute_result"
    }
   ],
   "source": [
    "siec.tag"
   ]
  },
  {
   "cell_type": "code",
   "execution_count": 16,
   "metadata": {},
   "outputs": [],
   "source": [
    "siec = tree.getroot()"
   ]
  },
  {
   "cell_type": "code",
   "execution_count": 8,
   "metadata": {},
   "outputs": [
    {
     "data": {
      "text/plain": [
       "'CiekaweKsiazki'"
      ]
     },
     "execution_count": 8,
     "metadata": {},
     "output_type": "execute_result"
    }
   ],
   "source": [
    "siec.get(\"nazwa\")"
   ]
  },
  {
   "cell_type": "code",
   "execution_count": 9,
   "metadata": {},
   "outputs": [
    {
     "data": {
      "text/plain": [
       "[<Element Ksiegarnia at 0x7fe4101b2c08>,\n",
       " <Element Ksiegarnia at 0x7fe4101dc9c8>,\n",
       " <Element Ksiegarnia at 0x7fe4101dc888>]"
      ]
     },
     "execution_count": 9,
     "metadata": {},
     "output_type": "execute_result"
    }
   ],
   "source": [
    "siec.xpath(\"/Siec/*\")"
   ]
  },
  {
   "cell_type": "code",
   "execution_count": 10,
   "metadata": {},
   "outputs": [
    {
     "data": {
      "text/plain": [
       "[<Element Wlasciciel at 0x7fe4116a3bc8>,\n",
       " <Element Ksiazka at 0x7fe4101dc7c8>,\n",
       " <Element Ksiazka at 0x7fe4101dca08>,\n",
       " <Element Ksiazka at 0x7fe4101dc748>,\n",
       " <Element Ksiazka at 0x7fe4101dc788>,\n",
       " <Element Wlasciciel at 0x7fe4101dcd48>,\n",
       " <Element Ksiazka at 0x7fe4101dcd88>,\n",
       " <Element Ksiazka at 0x7fe4101dcdc8>,\n",
       " <Element Ksiazka at 0x7fe4101dce08>,\n",
       " <Element Wlasciciel at 0x7fe4101dcd08>,\n",
       " <Element Ksiazka at 0x7fe4101dce48>,\n",
       " <Element Ksiazka at 0x7fe4101dce88>,\n",
       " <Element Ksiazka at 0x7fe4101dcec8>]"
      ]
     },
     "execution_count": 10,
     "metadata": {},
     "output_type": "execute_result"
    }
   ],
   "source": [
    "siec.xpath(\"/Siec/Ksiegarnia/*\")"
   ]
  },
  {
   "cell_type": "code",
   "execution_count": 17,
   "metadata": {},
   "outputs": [
    {
     "data": {
      "text/plain": [
       "['Aleje Jerozolimskie', '3 Maja', 'Marywilska']"
      ]
     },
     "execution_count": 17,
     "metadata": {},
     "output_type": "execute_result"
    }
   ],
   "source": [
    "siec.xpath(\"//@adres\")"
   ]
  },
  {
   "cell_type": "code",
   "execution_count": 42,
   "metadata": {},
   "outputs": [
    {
     "data": {
      "text/plain": [
       "['\\n\\tOkaleczone oko\\n\\t',\n",
       " '\\n\\tOślepiający nóż\\n\\t',\n",
       " '\\n\\tCzarny Pryzmat\\n\\t',\n",
       " '\\n\\tKrwawe Zwierciadło\\n\\t',\n",
       " '\\n\\tCzarny Pryzmat\\n\\t',\n",
       " '\\n\\tKrwawe Zwierciadło\\n\\t',\n",
       " '\\n\\tOkaleczone oko\\n\\t',\n",
       " '\\n\\tOślepiający nóż\\n\\t']"
      ]
     },
     "execution_count": 42,
     "metadata": {},
     "output_type": "execute_result"
    }
   ],
   "source": [
    "siec.xpath(\"//Ksiazka[@gatunek='Fantasy']/text()\")"
   ]
  },
  {
   "cell_type": "code",
   "execution_count": 54,
   "metadata": {},
   "outputs": [
    {
     "data": {
      "text/plain": [
       "'Aleje Jerozolimskie'"
      ]
     },
     "execution_count": 54,
     "metadata": {},
     "output_type": "execute_result"
    }
   ],
   "source": [
    "ksiazki = siec.xpath(\"//Ksiazka[@gatunek='Fantasy']\")\n",
    "ksiazki[0].getparent().get('adres')"
   ]
  },
  {
   "cell_type": "code",
   "execution_count": 63,
   "metadata": {},
   "outputs": [
    {
     "data": {
      "text/plain": [
       "['Okaleczone oko',\n",
       " 'Oślepiający nóż',\n",
       " 'Czarny Pryzmat',\n",
       " 'Krwawe Zwierciadło',\n",
       " 'Czarny Pryzmat',\n",
       " 'Krwawe Zwierciadło',\n",
       " 'Okaleczone oko',\n",
       " 'Oślepiający nóż']"
      ]
     },
     "execution_count": 63,
     "metadata": {},
     "output_type": "execute_result"
    }
   ],
   "source": [
    "np.c_[[book.text.strip() for book in ksiazki]"
   ]
  },
  {
   "cell_type": "code",
   "execution_count": null,
   "metadata": {},
   "outputs": [],
   "source": []
  }
 ],
 "metadata": {
  "kernelspec": {
   "display_name": "Python 3",
   "language": "python",
   "name": "python3"
  },
  "language_info": {
   "codemirror_mode": {
    "name": "ipython",
    "version": 3
   },
   "file_extension": ".py",
   "mimetype": "text/x-python",
   "name": "python",
   "nbconvert_exporter": "python",
   "pygments_lexer": "ipython3",
   "version": "3.6.4"
  }
 },
 "nbformat": 4,
 "nbformat_minor": 2
}
