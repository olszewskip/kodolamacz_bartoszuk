{
 "cells": [
  {
   "cell_type": "code",
   "execution_count": 1,
   "metadata": {},
   "outputs": [],
   "source": [
    "import io, os.path, re\n",
    "import requests, urllib, json\n",
    "import numpy as np\n",
    "import pandas as pd"
   ]
  },
  {
   "cell_type": "code",
   "execution_count": 2,
   "metadata": {},
   "outputs": [
    {
     "data": {
      "text/plain": [
       "200"
      ]
     },
     "execution_count": 2,
     "metadata": {},
     "output_type": "execute_result"
    }
   ],
   "source": [
    "f = requests.get(\"https://httpbin.org/ip\")\n",
    "f.status_code"
   ]
  },
  {
   "cell_type": "code",
   "execution_count": 5,
   "metadata": {},
   "outputs": [
    {
     "data": {
      "text/plain": [
       "'{\"origin\":\"212.180.211.150\"}\\n'"
      ]
     },
     "execution_count": 5,
     "metadata": {},
     "output_type": "execute_result"
    }
   ],
   "source": [
    "f.text"
   ]
  },
  {
   "cell_type": "code",
   "execution_count": 9,
   "metadata": {},
   "outputs": [
    {
     "data": {
      "text/plain": [
       "'212.180.211.150'"
      ]
     },
     "execution_count": 9,
     "metadata": {},
     "output_type": "execute_result"
    }
   ],
   "source": [
    "j = json.loads(f.text)\n",
    "j['origin']"
   ]
  },
  {
   "cell_type": "code",
   "execution_count": 18,
   "metadata": {},
   "outputs": [
    {
     "data": {
      "text/plain": [
       "'5 is the number of Justices on the Supreme Court of the United States necessary to render a majority decision.'"
      ]
     },
     "execution_count": 18,
     "metadata": {},
     "output_type": "execute_result"
    }
   ],
   "source": [
    "def ciekawostkaMat(typ, liczba, liczba2=None):\n",
    "    link = \"http://numbersapi.com/\"\n",
    "    \n",
    "    if typ == \"date\":\n",
    "        \n",
    "        if liczba2:\n",
    "            link += str(liczba2) + \"/\"\n",
    "        link +=  str(liczba) + \"/date\"\n",
    "        \n",
    "    else:\n",
    "        link +=  str(liczba) \n",
    "\n",
    "    f = requests.get(link)\n",
    "    return f.text\n",
    "\n",
    "ciekawostkaMat(\"random\", 5)"
   ]
  },
  {
   "cell_type": "code",
   "execution_count": 28,
   "metadata": {},
   "outputs": [
    {
     "ename": "ValueError",
     "evalue": "zly typ",
     "output_type": "error",
     "traceback": [
      "\u001b[0;31m--------------------------------------------------------------------------\u001b[0m",
      "\u001b[0;31mValueError\u001b[0m                               Traceback (most recent call last)",
      "\u001b[0;32m<ipython-input-28-1f22eb038200>\u001b[0m in \u001b[0;36m<module>\u001b[0;34m()\u001b[0m\n\u001b[1;32m     12\u001b[0m     \u001b[0;32mreturn\u001b[0m \u001b[0mf\u001b[0m\u001b[0;34m.\u001b[0m\u001b[0mtext\u001b[0m\u001b[0;34m\u001b[0m\u001b[0m\n\u001b[1;32m     13\u001b[0m \u001b[0;34m\u001b[0m\u001b[0m\n\u001b[0;32m---> 14\u001b[0;31m \u001b[0mciekawostkaMat\u001b[0m\u001b[0;34m(\u001b[0m\u001b[0;34m\"trivia\"\u001b[0m\u001b[0;34m,\u001b[0m\u001b[0;36m12\u001b[0m\u001b[0;34m,\u001b[0m\u001b[0;36m5\u001b[0m\u001b[0;34m)\u001b[0m\u001b[0;34m\u001b[0m\u001b[0m\n\u001b[0m",
      "\u001b[0;32m<ipython-input-28-1f22eb038200>\u001b[0m in \u001b[0;36mciekawostkaMat\u001b[0;34m(typ, liczba, liczba2)\u001b[0m\n\u001b[1;32m      8\u001b[0m         \u001b[0mf\u001b[0m \u001b[0;34m=\u001b[0m \u001b[0mrequests\u001b[0m\u001b[0;34m.\u001b[0m\u001b[0mget\u001b[0m\u001b[0;34m(\u001b[0m\u001b[0;34mf\"http://numbersapi.com/{liczba2}/{liczba}/{typ}\"\u001b[0m\u001b[0;34m)\u001b[0m\u001b[0;34m\u001b[0m\u001b[0m\n\u001b[1;32m      9\u001b[0m \u001b[0;34m\u001b[0m\u001b[0m\n\u001b[0;32m---> 10\u001b[0;31m     \u001b[0;32mraise\u001b[0m \u001b[0mValueError\u001b[0m\u001b[0;34m(\u001b[0m\u001b[0;34m'zly typ'\u001b[0m\u001b[0;34m)\u001b[0m\u001b[0;34m\u001b[0m\u001b[0m\n\u001b[0m\u001b[1;32m     11\u001b[0m \u001b[0;34m\u001b[0m\u001b[0m\n\u001b[1;32m     12\u001b[0m     \u001b[0;32mreturn\u001b[0m \u001b[0mf\u001b[0m\u001b[0;34m.\u001b[0m\u001b[0mtext\u001b[0m\u001b[0;34m\u001b[0m\u001b[0m\n",
      "\u001b[0;31mValueError\u001b[0m: zly typ"
     ]
    }
   ],
   "source": [
    "def ciekawostkaMat(typ, liczba, liczba2=None):\n",
    "    \n",
    "    if typ not in [\"date\", \"math\", \"trivia\", \"year\"]:\n",
    "        raise ValueErrot(\"zly typ\")\n",
    "    if liczba2 is None:\n",
    "        f = requests.get(f\"http://numbersapi.com/{liczba}/{typ}\")\n",
    "    if liczba2 is not None and typ == \"date\":\n",
    "        f = requests.get(f\"http://numbersapi.com/{liczba2}/{liczba}/{typ}\")\n",
    "    \n",
    "    raise ValueError('zly typ')\n",
    "\n",
    "    return f.text\n",
    "\n",
    "ciekawostkaMat(\"trivia\",12,5)"
   ]
  },
  {
   "cell_type": "code",
   "execution_count": 22,
   "metadata": {},
   "outputs": [
    {
     "name": "stdout",
     "output_type": "stream",
     "text": [
      "{'found': True,\n",
      " 'number': 5,\n",
      " 'text': '5 is the number of Justices on the Supreme Court of the United '\n",
      "         'States necessary to render a majority decision.',\n",
      " 'type': 'trivia'}\n"
     ]
    },
    {
     "data": {
      "text/plain": [
       "'5 is the number of Justices on the Supreme Court of the United States necessary to render a majority decision.'"
      ]
     },
     "execution_count": 22,
     "metadata": {},
     "output_type": "execute_result"
    }
   ],
   "source": [
    "from pprint import pprint\n",
    "\n",
    "def ciekawostkaMatJSON(typ, liczba, liczba2=None):\n",
    "    link = \"http://numbersapi.com/\"\n",
    "    \n",
    "    if typ == \"date\":\n",
    "        \n",
    "        if liczba2:\n",
    "            link += str(liczba2) + \"/\"\n",
    "        link +=  str(liczba) + \"/date\"\n",
    "        \n",
    "    else:\n",
    "        link +=  str(liczba) \n",
    "        \n",
    "    link +=  \"?json\"\n",
    "    f = requests.get(link)\n",
    "    j = json.loads(f.text)\n",
    "    # pprint(j)\n",
    "    return j[\"text\"]\n",
    "\n",
    "ciekawostkaMatJSON(\"random\", 5)"
   ]
  },
  {
   "cell_type": "code",
   "execution_count": 46,
   "metadata": {},
   "outputs": [
    {
     "data": {
      "text/html": [
       "<div>\n",
       "<style scoped>\n",
       "    .dataframe tbody tr th:only-of-type {\n",
       "        vertical-align: middle;\n",
       "    }\n",
       "\n",
       "    .dataframe tbody tr th {\n",
       "        vertical-align: top;\n",
       "    }\n",
       "\n",
       "    .dataframe thead th {\n",
       "        text-align: right;\n",
       "    }\n",
       "</style>\n",
       "<table border=\"1\" class=\"dataframe\">\n",
       "  <thead>\n",
       "    <tr style=\"text-align: right;\">\n",
       "      <th></th>\n",
       "      <th>ciekawostka</th>\n",
       "    </tr>\n",
       "    <tr>\n",
       "      <th>[date]</th>\n",
       "      <th></th>\n",
       "    </tr>\n",
       "  </thead>\n",
       "  <tbody>\n",
       "    <tr>\n",
       "      <th>66</th>\n",
       "      <td>March 6th is the day in 1946 that Ho Chi Minh ...</td>\n",
       "    </tr>\n",
       "    <tr>\n",
       "      <th>67</th>\n",
       "      <td>March 7th is the day in 161 that Emperor Anton...</td>\n",
       "    </tr>\n",
       "    <tr>\n",
       "      <th>68</th>\n",
       "      <td>March 8th is the day in 1936 that Daytona Beac...</td>\n",
       "    </tr>\n",
       "    <tr>\n",
       "      <th>69</th>\n",
       "      <td>March 9th is the day in 1910 that the Westmore...</td>\n",
       "    </tr>\n",
       "    <tr>\n",
       "      <th>70</th>\n",
       "      <td>March 10th is the day in 1735 that an agreemen...</td>\n",
       "    </tr>\n",
       "  </tbody>\n",
       "</table>\n",
       "</div>"
      ],
      "text/plain": [
       "                                              ciekawostka\n",
       "[date]                                                   \n",
       "66      March 6th is the day in 1946 that Ho Chi Minh ...\n",
       "67      March 7th is the day in 161 that Emperor Anton...\n",
       "68      March 8th is the day in 1936 that Daytona Beac...\n",
       "69      March 9th is the day in 1910 that the Westmore...\n",
       "70      March 10th is the day in 1735 that an agreemen..."
      ]
     },
     "execution_count": 46,
     "metadata": {},
     "output_type": "execute_result"
    }
   ],
   "source": [
    "def masoweCiekawostkiMatematyczne(typ, liczba_start, liczba_koniec):\n",
    "    \n",
    "    f = requests.get(f\"http://numbersapi.com/{liczba_start}..{liczba_koniec}/{typ}\")\n",
    "    j = json.loads(f.text)\n",
    "    df = pd.DataFrame.from_dict(j, orient=\"index\")\n",
    "    df.columns = [\"ciekawostka\"]\n",
    "    df.index.name = [\"liczba\"]\n",
    "       \n",
    "    return df\n",
    "\n",
    "masoweCiekawostkiMatematyczne(\"date\", 66, 70)"
   ]
  },
  {
   "cell_type": "code",
   "execution_count": null,
   "metadata": {},
   "outputs": [],
   "source": []
  }
 ],
 "metadata": {
  "kernelspec": {
   "display_name": "Python 3",
   "language": "python",
   "name": "python3"
  },
  "language_info": {
   "codemirror_mode": {
    "name": "ipython",
    "version": 3
   },
   "file_extension": ".py",
   "mimetype": "text/x-python",
   "name": "python",
   "nbconvert_exporter": "python",
   "pygments_lexer": "ipython3",
   "version": "3.6.4"
  }
 },
 "nbformat": 4,
 "nbformat_minor": 2
}
