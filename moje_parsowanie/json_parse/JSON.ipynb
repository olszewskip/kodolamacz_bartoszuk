{
 "cells": [
  {
   "cell_type": "code",
   "execution_count": 1,
   "metadata": {},
   "outputs": [],
   "source": [
    "import io, os.path, re\n",
    "import requests, urllib, json\n",
    "import numpy as np\n",
    "import pandas as pd"
   ]
  },
  {
   "cell_type": "code",
   "execution_count": 20,
   "metadata": {},
   "outputs": [
    {
     "data": {
      "text/plain": [
       "'#ff0000'"
      ]
     },
     "execution_count": 20,
     "metadata": {},
     "output_type": "execute_result"
    }
   ],
   "source": [
    "tekstJSON = \"\"\"\n",
    "{\n",
    "\t\t\"color\": \"red\",\n",
    "\t\t\"value\": \"#ff0000\",\n",
    "        \"klucz\": \"wartość\"\n",
    "}\n",
    "\"\"\"\n",
    "j = json.loads(tekstJSON)\n",
    "j\n",
    "j[\"color\"]\n",
    "j[\"value\"]"
   ]
  },
  {
   "cell_type": "code",
   "execution_count": 47,
   "metadata": {},
   "outputs": [
    {
     "name": "stdout",
     "output_type": "stream",
     "text": [
      "{'sample': {'someitem': {'thesearecool': [{'neat': 'wow'},\n",
      "                                          {'klucz': 'wartosc',\n",
      "                                           'neat': 'tubular'}]}}}\n"
     ]
    }
   ],
   "source": [
    "tekstJSON2 =\"\"\"\n",
    "{\n",
    "    \"sample\": {\n",
    "        \"someitem\": {\n",
    "            \"thesearecool\": [\n",
    "                {\n",
    "                    \"neat\": \"wow\"\n",
    "                },\n",
    "                {\n",
    "                    \"neat\": \"tubular\",\n",
    "                    \"klucz\": \"wartosc\"\n",
    "                }\n",
    "            ]\n",
    "        }\n",
    "    }\n",
    "}\n",
    "\"\"\"\n",
    "j = json.loads(tekstJSON2)\n",
    "j[\"sample\"][\"someitem\"][\"thesearecool\"][1][\"klucz\"]\n",
    "\n",
    "import pprint\n",
    "pp = pprint.PrettyPrinter(indent=1)\n",
    "pp.pprint(j)"
   ]
  },
  {
   "cell_type": "code",
   "execution_count": 33,
   "metadata": {},
   "outputs": [
    {
     "data": {
      "text/plain": [
       "200"
      ]
     },
     "execution_count": 33,
     "metadata": {},
     "output_type": "execute_result"
    }
   ],
   "source": [
    "f = requests.get(\"http://google.pl/\")\n",
    "f.status_code"
   ]
  },
  {
   "cell_type": "code",
   "execution_count": 34,
   "metadata": {
    "collapsed": true
   },
   "outputs": [
    {
     "data": {
      "text/plain": [
       "'<!doctype html><html itemscope=\"\" itemtype=\"http://schema.org/WebPage\" lang=\"pl\"><head><meta content=\"text/html; charset=UTF-8\" http-equiv=\"Content-Type\"><meta content=\"/images/branding/googleg/1x/googleg_standard_color_128dp.png\" itemprop=\"image\"><title>Google</title><script nonce=\"l6fu743bQBe/QzM1minpcg==\">(function(){window.google={kEI:\\'BehJW62vDoSssAHet5KACA\\',kEXPI:\\'0,1353747,57,886,1071,1018,280,265,231,214,129,259,616,636,607,74,114,127,7,127,2339597,220,207,32,329244,1344,12383,2349,2506,32691,15248,867,316,1252,7,7357,3231,5281,11240,365,1216,326,1776,113,1150,1051,1569,1622,1067,44,1331,58,72,130,5107,444,131,1119,2,204,375,727,310,2122,1361,283,1429,877,499,383,122,277,453,377,1240,479,1294,8,1569,222,1784,1022,277,2,2710,115,758,878,393,90,42,22,604,2,153,506,1092,494,54,42,80,2,70,3,741,192,398,29,272,142,472,283,509,1587,214,82,1344,9,393,466,11,43,15,4,10,168,334,123,7,902,216,121,105,386,8,806,278,7,28,463,620,29,54,406,245,2,187,4,4,4,4,107,130,12,687,7,63,6,209,303,50,215,702,416,413,452,375,7,191,488,287,2,489,490,117,2324804,3685998,2554,74,8797712,4,248,1324,549,332,445,1,2,1,1,77,1,1,507,393,578,14,304,1,8,1,2,1,1,1600,1,43,314,14,92,40,9,1,16,1,1,1,1,1\\',authuser:0,kscs:\\'c9c918f0_BehJW62vDoSssAHet5KACA\\',kGL:\\'PL\\'};google.kHL=\\'pl\\';})();google.time=function(){return(new Date).getTime()};(function(){google.lc=[];google.li=0;google.getEI=function(a){for(var b;a&&(!a.getAttribute||!(b=a.getAttribute(\"eid\")));)a=a.parentNode;return b||google.kEI};google.getLEI=function(a){for(var b=null;a&&(!a.getAttribute||!(b=a.getAttribute(\"leid\")));)a=a.parentNode;return b};google.https=function(){return\"https:\"==window.location.protocol};google.ml=function(){return null};google.wl=function(a,b){try{google.ml(Error(a),!1,b)}catch(d){}};google.log=function(a,b,d,c,g){if(a=google.logUrl(a,b,d,c,g)){b=new Image;var e=google.lc,f=google.li;e[f]=b;b.onerror=b.onload=b.onabort=function(){delete e[f]};google.vel&&google.vel.lu&&google.vel.lu(a);b.src=a;google.li=f+1}};google.logUrl=function(a,b,d,c,g){var e=\"\",f=google.ls||\"\";d||-1!=b.search(\"&ei=\")||(e=\"&ei=\"+google.getEI(c),-1==b.search(\"&lei=\")&&(c=google.getLEI(c))&&(e+=\"&lei=\"+c));c=\"\";!d&&google.cshid&&-1==b.search(\"&cshid=\")&&\"slh\"!=a&&(c=\"&cshid=\"+google.cshid);a=d||\"/\"+(g||\"gen_204\")+\"?atyp=i&ct=\"+a+\"&cad=\"+b+e+f+\"&zx=\"+google.time()+c;/^http:/i.test(a)&&google.https()&&(google.ml(Error(\"a\"),!1,{src:a,glmm:1}),a=\"\");return a};}).call(this);(function(){google.y={};google.x=function(a,b){if(a)var c=a.id;else{do c=Math.random();while(google.y[c])}google.y[c]=[a,b];return!1};google.lm=[];google.plm=function(a){google.lm.push.apply(google.lm,a)};google.lq=[];google.load=function(a,b,c){google.lq.push([[a],b,c])};google.loadAll=function(a,b){google.lq.push([a,b])};}).call(this);google.f={};</script><script nonce=\"l6fu743bQBe/QzM1minpcg==\">var a=window.location,b=a.href.indexOf(\"#\");if(0<=b){var c=a.href.substring(b+1);/(^|&)q=/.test(c)&&-1==c.indexOf(\"#\")&&a.replace(\"/search?\"+c.replace(/(^|&)fp=[^&]*/g,\"\")+\"&cad=h\")};</script><style>#gbar,#guser{font-size:13px;padding-top:1px !important;}#gbar{height:22px}#guser{padding-bottom:7px !important;text-align:right}.gbh,.gbd{border-top:1px solid #c9d7f1;font-size:1px}.gbh{height:0;position:absolute;top:24px;width:100%}@media all{.gb1{height:22px;margin-right:.5em;vertical-align:top}#gbar{float:left}}a.gb1,a.gb4{text-decoration:underline !important}a.gb1,a.gb4{color:#00c !important}.gbi .gb4{color:#dd8e27 !important}.gbf .gb4{color:#900 !important}\\n</style><style>body,td,a,p,.h{font-family:arial,sans-serif}body{margin:0;overflow-y:scroll}#gog{padding:3px 8px 0}td{line-height:.8em}.gac_m td{line-height:17px}form{margin-bottom:20px}.h{color:#36c}.q{color:#00c}.ts td{padding:0}.ts{border-collapse:collapse}em{font-weight:bold;font-style:normal}.lst{height:25px;width:496px}.gsfi,.lst{font:18px arial,sans-serif}.gsfs{font:17px arial,sans-serif}.ds{display:inline-box;display:inline-block;margin:3px 0 4px;margin-left:4px}input{font-family:inherit}a.gb1,a.gb2,a.gb3,a.gb4{color:#11c !important}body{background:#fff;color:black}a{color:#11c;text-decoration:none}a:hover,a:active{text-decoration:underline}.fl a{color:#36c}a:visited{color:#551a8b}a.gb1,a.gb4{text-decoration:underline}a.gb3:hover{text-decoration:none}#ghead a.gb2:hover{color:#fff !important}.sblc{padding-top:5px}.sblc a{display:block;margin:2px 0;margin-left:13px;font-size:11px}.lsbb{background:#eee;border:solid 1px;border-color:#ccc #999 #999 #ccc;height:30px}.lsbb{display:block}.ftl,#fll a{display:inline-block;margin:0 12px}.lsb{background:url(/images/nav_logo229.png) 0 -261px repeat-x;border:none;color:#000;cursor:pointer;height:30px;margin:0;outline:0;font:15px arial,sans-serif;vertical-align:top}.lsb:active{background:#ccc}.lst:focus{outline:none}.tiah{width:458px}</style><script nonce=\"l6fu743bQBe/QzM1minpcg==\"></script><link href=\"/images/branding/product/ico/googleg_lodp.ico\" rel=\"shortcut icon\"></head><body bgcolor=\"#fff\"><script nonce=\"l6fu743bQBe/QzM1minpcg==\">(function(){var src=\\'/images/nav_logo229.png\\';var iesg=false;document.body.onload = function(){window.n && window.n();if (document.images){new Image().src=src;}\\nif (!iesg){document.f&&document.f.q.focus();document.gbqf&&document.gbqf.q.focus();}\\n}\\n})();</script><div id=\"mngb\"> <div id=gbar><nobr><b class=gb1>Wyszukiwarka</b> <a class=gb1 href=\"http://www.google.pl/imghp?hl=pl&tab=wi\">Grafika</a> <a class=gb1 href=\"http://maps.google.pl/maps?hl=pl&tab=wl\">Mapy</a> <a class=gb1 href=\"https://play.google.com/?hl=pl&tab=w8\">Play</a> <a class=gb1 href=\"http://www.youtube.com/?gl=PL&tab=w1\">YouTube</a> <a class=gb1 href=\"http://news.google.pl/nwshp?hl=pl&tab=wn\">Wiadomości</a> <a class=gb1 href=\"https://mail.google.com/mail/?tab=wm\">Gmail</a> <a class=gb1 href=\"https://drive.google.com/?tab=wo\">Dysk</a> <a class=gb1 style=\"text-decoration:none\" href=\"https://www.google.pl/intl/pl/options/\"><u>Więcej</u> &raquo;</a></nobr></div><div id=guser width=100%><nobr><span id=gbn class=gbi></span><span id=gbf class=gbf></span><span id=gbe></span><a href=\"http://www.google.pl/history/optout?hl=pl\" class=gb4>Historia online</a> | <a  href=\"/preferences?hl=pl\" class=gb4>Ustawienia</a> | <a target=_top id=gb_70 href=\"https://accounts.google.com/ServiceLogin?hl=pl&passive=true&continue=http://www.google.pl/\" class=gb4>Zaloguj się</a></nobr></div><div class=gbh style=left:0></div><div class=gbh style=right:0></div> </div><center><br clear=\"all\" id=\"lgpd\"><div id=\"lga\"><img alt=\"Google\" height=\"92\" src=\"/images/branding/googlelogo/1x/googlelogo_white_background_color_272x92dp.png\" style=\"padding:28px 0 14px\" width=\"272\" id=\"hplogo\" onload=\"window.lol&&lol()\"><br><br></div><form action=\"/search\" name=\"f\"><table cellpadding=\"0\" cellspacing=\"0\"><tr valign=\"top\"><td width=\"25%\">&nbsp;</td><td align=\"center\" nowrap=\"\"><input name=\"ie\" value=\"ISO-8859-2\" type=\"hidden\"><input value=\"pl\" name=\"hl\" type=\"hidden\"><input name=\"source\" type=\"hidden\" value=\"hp\"><input name=\"biw\" type=\"hidden\"><input name=\"bih\" type=\"hidden\"><div class=\"ds\" style=\"height:32px;margin:4px 0\"><div style=\"position:relative;zoom:1\"><input style=\"color:#000;margin:0;padding:5px 8px 0 6px;vertical-align:top;padding-right:38px\" autocomplete=\"off\" class=\"lst tiah\" value=\"\" title=\"Szukaj w Google\" maxlength=\"2048\" name=\"q\" size=\"57\"><img src=\"/textinputassistant/tia.png\" style=\"position:absolute;cursor:pointer;right:5px;top:4px;z-index:300\" onclick=\"(function(){var src=\\'/textinputassistant/11/pl_tia.js\\';var s=document.createElement(\\'script\\');s.src=src;(document.getElementById(\\'xjsc\\')||document.body).appendChild(s);})();\" alt=\"\" height=\"23\" width=\"27\"></div></div><br style=\"line-height:0\"><span class=\"ds\"><span class=\"lsbb\"><input class=\"lsb\" value=\"Szukaj w Google\" name=\"btnG\" type=\"submit\"></span></span><span class=\"ds\"><span class=\"lsbb\"><input class=\"lsb\" value=\"Szczęśliwy traf\" name=\"btnI\" onclick=\"if(this.form.q.value)this.checked=1; else top.location=\\'/doodles/\\'\" type=\"submit\"></span></span></td><td class=\"fl sblc\" align=\"left\" nowrap=\"\" width=\"25%\"><a href=\"/advanced_search?hl=pl&amp;authuser=0\">Szukanie zaawansowane</a><a href=\"/language_tools?hl=pl&amp;authuser=0\">Narzędzia językowe</a></td></tr></table><input id=\"gbv\" name=\"gbv\" type=\"hidden\" value=\"1\"></form><div id=\"gac_scont\"></div><div style=\"font-size:83%;min-height:3.5em\"><br><div id=\"prm\"><style>.szppmdbYutt__middle-slot-promo{font-size:small;margin-bottom:32px}.szppmdbYutt__middle-slot-promo a.ZIeIlb{display:inline-block;text-decoration:none}.szppmdbYutt__middle-slot-promo img{border:none;margin-right:5px;vertical-align:middle}</style><div class=\"szppmdbYutt__middle-slot-promo\" data-ved=\"0ahUKEwjtxefEx57cAhUEFiwKHd6bBIAQnIcBCAQ\"><img height=\"32\" src=\"/images/hpp/soccer-ball-26bd.png\" width=\"32\"><span>Jutro finał! </span><a class=\"NKcBbd\" href=\"https://www.google.com/url?q=https://www.google.pl/search%3Fq%3DMistrzostwa%2B%C5%9Bwiata%2Bw%2Bpi%C5%82ce%2Bno%C5%BCnej%26stick%3DH4sIACZhHlsC_-NgVuLQz9U3MDYoNAcAuKrLwQwAAAA%26source%3Dhppm2&amp;source=hpp&amp;id=19007333&amp;ct=3&amp;usg=AFQjCNFU_0MHRVF_s8df1MOYope-z80fhg&amp;sa=X&amp;ved=0ahUKEwjtxefEx57cAhUEFiwKHd6bBIAQ8IcBCAU\" rel=\"nofollow\">Zobacz wyniki, statystyki i najciekawsze informacje o meczu</a></div></div></div><span id=\"footer\"><div style=\"font-size:10pt\"><div style=\"margin:19px auto;text-align:center\" id=\"fll\"><a href=\"/intl/pl/ads/\">Reklamuj się w Google</a><a href=\"http://www.google.pl/intl/pl/services/\">Rozwiązania dla firm</a><a href=\"https://plus.google.com/102407376649446415369\" rel=\"publisher\">+Google</a><a href=\"/intl/pl/about.html\">Wszystko o Google</a><a href=\"http://www.google.pl/setprefdomain?prefdom=US&amp;sig=__PwyijXCVkgNZJYKN_A_uiFWiZEY%3D\" id=\"fehl\">Google.com</a></div></div><p style=\"color:#767676;font-size:8pt\">&copy; 2018 - <a href=\"/intl/pl/policies/privacy/\">Prywatność</a> - <a href=\"/intl/pl/policies/terms/\">Warunki</a></p></span></center><script nonce=\"l6fu743bQBe/QzM1minpcg==\">(function(){window.google.cdo={height:0,width:0};(function(){var a=window.innerWidth,b=window.innerHeight;if(!a||!b){var c=window.document,d=\"CSS1Compat\"==c.compatMode?c.documentElement:c.body;a=d.clientWidth;b=d.clientHeight}a&&b&&(a!=google.cdo.width||b!=google.cdo.height)&&google.log(\"\",\"\",\"/client_204?&atyp=i&biw=\"+a+\"&bih=\"+b+\"&ei=\"+google.kEI);}).call(this);})();</script><div id=\"xjsd\"></div><div id=\"xjsi\"><script nonce=\"l6fu743bQBe/QzM1minpcg==\">(function(){function c(b){window.setTimeout(function(){var a=document.createElement(\"script\");a.src=b;google.timers&&google.timers.load.t&&google.tick&&google.tick(\"load\",{gen204:\"xjsls\",clearcut:31});document.getElementById(\"xjsd\").appendChild(a)},0)}google.dljp=function(b,a){google.xjsu=b;c(a)};google.dlj=c;}).call(this);if(!google.xjs){window._=window._||{};window._DumpException=window._._DumpException=function(e){throw e};window._F_installCss=window._._F_installCss=function(c){};google.dljp(\\'/xjs/_/js/k\\\\x3dxjs.hp.en.0wBcmwc0jkU.O/m\\\\x3dsb_he,d/am\\\\x3dRMHY/rt\\\\x3dj/d\\\\x3d1/rs\\\\x3dACT90oEDzbHsRfgGux40AgWm0x5IfYjlmA\\',\\'/xjs/_/js/k\\\\x3dxjs.hp.en.0wBcmwc0jkU.O/m\\\\x3dsb_he,d/am\\\\x3dRMHY/rt\\\\x3dj/d\\\\x3d1/rs\\\\x3dACT90oEDzbHsRfgGux40AgWm0x5IfYjlmA\\');google.xjs=1;}google.pmc={\"sb_he\":{\"agen\":true,\"cgen\":true,\"client\":\"heirloom-hp\",\"dh\":true,\"dhqt\":true,\"ds\":\"\",\"ffql\":\"en\",\"fl\":true,\"host\":\"google.pl\",\"isbh\":28,\"jsonp\":true,\"msgs\":{\"cibl\":\"Wyczyść wyszukiwanie\",\"dym\":\"Czy chodziło Ci o:\",\"lcky\":\"Szczęśliwy traf\",\"lml\":\"Więcej informacji\",\"oskt\":\"Narzędzia do wprowadzania tekstu\",\"psrc\":\"To wyszukiwanie zostało usunięte z Twojej \\\\u003Ca href=\\\\\"/history\\\\\"\\\\u003EHistorii online\\\\u003C/a\\\\u003E\",\"psrl\":\"Usuń\",\"sbit\":\"Wyszukiwanie obrazem\",\"srch\":\"Szukaj w Google\"},\"nds\":true,\"ovr\":{},\"pq\":\"\",\"refpd\":true,\"rfs\":[],\"sbpl\":24,\"sbpr\":24,\"scd\":10,\"sce\":5,\"stok\":\"m68cbSBxdim6fygc7wCEx1fUzNM\"},\"d\":{},\"ZI/YVQ\":{},\"Qnk92g\":{},\"U5B21g\":{},\"DPBNMg\":{},\"YFCs/g\":{}};google.x(null,function(){});(function(){var r=[];google.plm(r);})();(function(){var m=[]\\n;google.jsc && google.jsc.m(m);})();</script></div></body></html>'"
      ]
     },
     "execution_count": 34,
     "metadata": {},
     "output_type": "execute_result"
    }
   ],
   "source": [
    "f.text"
   ]
  },
  {
   "cell_type": "code",
   "execution_count": 11,
   "metadata": {},
   "outputs": [
    {
     "data": {
      "text/plain": [
       "'red'"
      ]
     },
     "execution_count": 11,
     "metadata": {},
     "output_type": "execute_result"
    }
   ],
   "source": [
    "tekstJSON = \"\"\"\n",
    "[\n",
    "\t{\n",
    "\t\t\"color\": \"red\",\n",
    "\t\t\"value\": \"#ff0000\"\n",
    "\t},\n",
    "    {\n",
    "\t\t\"color\": \"blue\",\n",
    "\t\t\"value\": \"#0000ff\"\n",
    "\t}\n",
    "]\n",
    "\"\"\"\n",
    "j = json.loads(tekstJSON)\n",
    "j[0][\"color\"]"
   ]
  },
  {
   "cell_type": "markdown",
   "metadata": {},
   "source": [
    "# IP"
   ]
  },
  {
   "cell_type": "code",
   "execution_count": 41,
   "metadata": {},
   "outputs": [
    {
     "data": {
      "text/plain": [
       "'212.180.211.150'"
      ]
     },
     "execution_count": 41,
     "metadata": {},
     "output_type": "execute_result"
    }
   ],
   "source": [
    "f = requests.get(\"https://httpbin.org/ip\")\n",
    "slownik = json.loads(f.text)\n",
    "slownik[\"origin\"]"
   ]
  },
  {
   "cell_type": "code",
   "execution_count": 42,
   "metadata": {},
   "outputs": [
    {
     "data": {
      "text/plain": [
       "{'origin': '212.180.211.150'}"
      ]
     },
     "execution_count": 42,
     "metadata": {},
     "output_type": "execute_result"
    }
   ],
   "source": [
    "slownik"
   ]
  },
  {
   "cell_type": "markdown",
   "metadata": {},
   "source": [
    "# Ciekawostki matematyczne"
   ]
  },
  {
   "cell_type": "code",
   "execution_count": null,
   "metadata": {},
   "outputs": [],
   "source": [
    "# http://numbersapi.com/12/5/date?json\n",
    "# http://numbersapi.com/12/5/date"
   ]
  },
  {
   "cell_type": "code",
   "execution_count": 48,
   "metadata": {},
   "outputs": [
    {
     "data": {
      "text/plain": [
       "True"
      ]
     },
     "execution_count": 48,
     "metadata": {},
     "output_type": "execute_result"
    }
   ],
   "source": [
    "liczba2=None\n",
    "liczba2 is None"
   ]
  },
  {
   "cell_type": "code",
   "execution_count": 53,
   "metadata": {},
   "outputs": [
    {
     "data": {
      "text/plain": [
       "'December 31st is the day in 1967 that the Youth International Party, popularly known as the \"Yippies\", is founded.'"
      ]
     },
     "execution_count": 53,
     "metadata": {},
     "output_type": "execute_result"
    }
   ],
   "source": [
    "def ciekawostkaMatematyczna(typ, liczba, liczba2=None):\n",
    "    if typ not in [\"trivia\", \"date\", \"math\", \"year\"]:\n",
    "        raise ValueError(\"Zly typ!\")\n",
    "    if liczba2 is None:\n",
    "        f = requests.get(f\"http://numbersapi.com/{liczba}/{typ}\")\n",
    "        return f.text\n",
    "    if liczba2 is not None and typ==\"date\":\n",
    "        f = requests.get(f\"http://numbersapi.com/{liczba}/{liczba2}/{typ}\")\n",
    "        return f.text\n",
    "    raise ValueError(\"Zly typ jak dla 2 liczb!\")\n",
    "    \n",
    "ciekawostkaMatematyczna(\"date\", 366)  "
   ]
  },
  {
   "cell_type": "code",
   "execution_count": 54,
   "metadata": {},
   "outputs": [
    {
     "data": {
      "text/plain": [
       "'April 5th is the day in 1956 that Fidel Castro declares himself at war with the President of Cuba.'"
      ]
     },
     "execution_count": 54,
     "metadata": {},
     "output_type": "execute_result"
    }
   ],
   "source": [
    "ciekawostkaMatematyczna(\"date\", 4, 5)  "
   ]
  },
  {
   "cell_type": "code",
   "execution_count": 55,
   "metadata": {},
   "outputs": [
    {
     "ename": "ValueError",
     "evalue": "Zly typ jak dla 2 liczb!",
     "output_type": "error",
     "traceback": [
      "\u001b[0;31m---------------------------------------------------------------------------\u001b[0m",
      "\u001b[0;31mValueError\u001b[0m                                Traceback (most recent call last)",
      "\u001b[0;32m<ipython-input-55-44d7d162d3ee>\u001b[0m in \u001b[0;36m<module>\u001b[0;34m()\u001b[0m\n\u001b[0;32m----> 1\u001b[0;31m \u001b[0mciekawostkaMatematyczna\u001b[0m\u001b[0;34m(\u001b[0m\u001b[0;34m\"math\"\u001b[0m\u001b[0;34m,\u001b[0m \u001b[0;36m4\u001b[0m\u001b[0;34m,\u001b[0m \u001b[0;36m5\u001b[0m\u001b[0;34m)\u001b[0m\u001b[0;34m\u001b[0m\u001b[0m\n\u001b[0m",
      "\u001b[0;32m<ipython-input-53-64951998835c>\u001b[0m in \u001b[0;36mciekawostkaMatematyczna\u001b[0;34m(typ, liczba, liczba2)\u001b[0m\n\u001b[1;32m      8\u001b[0m         \u001b[0mf\u001b[0m \u001b[0;34m=\u001b[0m \u001b[0mrequests\u001b[0m\u001b[0;34m.\u001b[0m\u001b[0mget\u001b[0m\u001b[0;34m(\u001b[0m\u001b[0;34mf\"http://numbersapi.com/{liczba}/{liczba2}/{typ}\"\u001b[0m\u001b[0;34m)\u001b[0m\u001b[0;34m\u001b[0m\u001b[0m\n\u001b[1;32m      9\u001b[0m         \u001b[0;32mreturn\u001b[0m \u001b[0mf\u001b[0m\u001b[0;34m.\u001b[0m\u001b[0mtext\u001b[0m\u001b[0;34m\u001b[0m\u001b[0m\n\u001b[0;32m---> 10\u001b[0;31m     \u001b[0;32mraise\u001b[0m \u001b[0mValueError\u001b[0m\u001b[0;34m(\u001b[0m\u001b[0;34m\"Zly typ jak dla 2 liczb!\"\u001b[0m\u001b[0;34m)\u001b[0m\u001b[0;34m\u001b[0m\u001b[0m\n\u001b[0m\u001b[1;32m     11\u001b[0m \u001b[0;34m\u001b[0m\u001b[0m\n\u001b[1;32m     12\u001b[0m \u001b[0mciekawostkaMatematyczna\u001b[0m\u001b[0;34m(\u001b[0m\u001b[0;34m\"date\"\u001b[0m\u001b[0;34m,\u001b[0m \u001b[0;36m366\u001b[0m\u001b[0;34m)\u001b[0m\u001b[0;34m\u001b[0m\u001b[0m\n",
      "\u001b[0;31mValueError\u001b[0m: Zly typ jak dla 2 liczb!"
     ]
    }
   ],
   "source": [
    "ciekawostkaMatematyczna(\"math\", 4, 5)  "
   ]
  },
  {
   "cell_type": "code",
   "execution_count": 56,
   "metadata": {},
   "outputs": [
    {
     "data": {
      "text/plain": [
       "'4 is the maximum number of dimensions of a real division algebra (the quaternions), by a theorem of Ferdinand Georg Frobenius.'"
      ]
     },
     "execution_count": 56,
     "metadata": {},
     "output_type": "execute_result"
    }
   ],
   "source": [
    "ciekawostkaMatematyczna(\"math\", 4)  "
   ]
  },
  {
   "cell_type": "code",
   "execution_count": 57,
   "metadata": {},
   "outputs": [
    {
     "ename": "ValueError",
     "evalue": "Zly typ!",
     "output_type": "error",
     "traceback": [
      "\u001b[0;31m---------------------------------------------------------------------------\u001b[0m",
      "\u001b[0;31mValueError\u001b[0m                                Traceback (most recent call last)",
      "\u001b[0;32m<ipython-input-57-021487413ace>\u001b[0m in \u001b[0;36m<module>\u001b[0;34m()\u001b[0m\n\u001b[0;32m----> 1\u001b[0;31m \u001b[0mciekawostkaMatematyczna\u001b[0m\u001b[0;34m(\u001b[0m\u001b[0;34m\"asd\"\u001b[0m\u001b[0;34m,\u001b[0m \u001b[0;36m4\u001b[0m\u001b[0;34m)\u001b[0m\u001b[0;34m\u001b[0m\u001b[0m\n\u001b[0m",
      "\u001b[0;32m<ipython-input-53-64951998835c>\u001b[0m in \u001b[0;36mciekawostkaMatematyczna\u001b[0;34m(typ, liczba, liczba2)\u001b[0m\n\u001b[1;32m      1\u001b[0m \u001b[0;32mdef\u001b[0m \u001b[0mciekawostkaMatematyczna\u001b[0m\u001b[0;34m(\u001b[0m\u001b[0mtyp\u001b[0m\u001b[0;34m,\u001b[0m \u001b[0mliczba\u001b[0m\u001b[0;34m,\u001b[0m \u001b[0mliczba2\u001b[0m\u001b[0;34m=\u001b[0m\u001b[0;32mNone\u001b[0m\u001b[0;34m)\u001b[0m\u001b[0;34m:\u001b[0m\u001b[0;34m\u001b[0m\u001b[0m\n\u001b[1;32m      2\u001b[0m     \u001b[0;32mif\u001b[0m \u001b[0mtyp\u001b[0m \u001b[0;32mnot\u001b[0m \u001b[0;32min\u001b[0m \u001b[0;34m[\u001b[0m\u001b[0;34m\"trivia\"\u001b[0m\u001b[0;34m,\u001b[0m \u001b[0;34m\"date\"\u001b[0m\u001b[0;34m,\u001b[0m \u001b[0;34m\"math\"\u001b[0m\u001b[0;34m,\u001b[0m \u001b[0;34m\"year\"\u001b[0m\u001b[0;34m]\u001b[0m\u001b[0;34m:\u001b[0m\u001b[0;34m\u001b[0m\u001b[0m\n\u001b[0;32m----> 3\u001b[0;31m         \u001b[0;32mraise\u001b[0m \u001b[0mValueError\u001b[0m\u001b[0;34m(\u001b[0m\u001b[0;34m\"Zly typ!\"\u001b[0m\u001b[0;34m)\u001b[0m\u001b[0;34m\u001b[0m\u001b[0m\n\u001b[0m\u001b[1;32m      4\u001b[0m     \u001b[0;32mif\u001b[0m \u001b[0mliczba2\u001b[0m \u001b[0;32mis\u001b[0m \u001b[0;32mNone\u001b[0m\u001b[0;34m:\u001b[0m\u001b[0;34m\u001b[0m\u001b[0m\n\u001b[1;32m      5\u001b[0m         \u001b[0mf\u001b[0m \u001b[0;34m=\u001b[0m \u001b[0mrequests\u001b[0m\u001b[0;34m.\u001b[0m\u001b[0mget\u001b[0m\u001b[0;34m(\u001b[0m\u001b[0;34mf\"http://numbersapi.com/{liczba}/{typ}\"\u001b[0m\u001b[0;34m)\u001b[0m\u001b[0;34m\u001b[0m\u001b[0m\n",
      "\u001b[0;31mValueError\u001b[0m: Zly typ!"
     ]
    }
   ],
   "source": [
    "ciekawostkaMatematyczna(\"asd\", 4)  "
   ]
  },
  {
   "cell_type": "code",
   "execution_count": 58,
   "metadata": {},
   "outputs": [],
   "source": [
    "def ciekawostkaMatematyczna(typ, liczba, liczba2=None):\n",
    "    if typ not in [\"trivia\", \"date\", \"math\", \"year\"]:\n",
    "        raise ValueError(\"Zly typ!\")\n",
    "    if liczba2 is None:\n",
    "        f = requests.get(f\"http://numbersapi.com/{liczba}/{typ}?json\")\n",
    "        slownik = json.loads(f.text)\n",
    "        return slownik[\"text\"]\n",
    "    if liczba2 is not None and typ==\"date\":\n",
    "        f = requests.get(f\"http://numbersapi.com/{liczba}/{liczba2}/{typ}?json\")\n",
    "        slownik = json.loads(f.text)\n",
    "        return slownik[\"text\"]\n",
    "    raise ValueError(\"Zly typ jak dla 2 liczb!\")"
   ]
  },
  {
   "cell_type": "code",
   "execution_count": 59,
   "metadata": {},
   "outputs": [
    {
     "data": {
      "text/plain": [
       "'4 is the maximum number of dimensions of a real division algebra (the quaternions), by a theorem of Ferdinand Georg Frobenius.'"
      ]
     },
     "execution_count": 59,
     "metadata": {},
     "output_type": "execute_result"
    }
   ],
   "source": [
    "ciekawostkaMatematyczna(\"math\", 4)  "
   ]
  },
  {
   "cell_type": "code",
   "execution_count": 60,
   "metadata": {},
   "outputs": [
    {
     "data": {
      "text/plain": [
       "'April 5th is the day in 1874 that Birkenhead Park, the first civic public park, is opened in Birkenhead.'"
      ]
     },
     "execution_count": 60,
     "metadata": {},
     "output_type": "execute_result"
    }
   ],
   "source": [
    "ciekawostkaMatematyczna(\"date\", 4, 5)  "
   ]
  },
  {
   "cell_type": "code",
   "execution_count": 61,
   "metadata": {},
   "outputs": [
    {
     "data": {
      "text/plain": [
       "'December 31st is the day in 1999 that the United States Government hands control of the Panama Canal (as well all the adjacent land to the canal known as the Panama Canal Zone) to Panama.'"
      ]
     },
     "execution_count": 61,
     "metadata": {},
     "output_type": "execute_result"
    }
   ],
   "source": [
    "ciekawostkaMatematyczna(\"date\", 366) "
   ]
  },
  {
   "cell_type": "code",
   "execution_count": 62,
   "metadata": {},
   "outputs": [
    {
     "ename": "ValueError",
     "evalue": "Zly typ!",
     "output_type": "error",
     "traceback": [
      "\u001b[0;31m---------------------------------------------------------------------------\u001b[0m",
      "\u001b[0;31mValueError\u001b[0m                                Traceback (most recent call last)",
      "\u001b[0;32m<ipython-input-62-021487413ace>\u001b[0m in \u001b[0;36m<module>\u001b[0;34m()\u001b[0m\n\u001b[0;32m----> 1\u001b[0;31m \u001b[0mciekawostkaMatematyczna\u001b[0m\u001b[0;34m(\u001b[0m\u001b[0;34m\"asd\"\u001b[0m\u001b[0;34m,\u001b[0m \u001b[0;36m4\u001b[0m\u001b[0;34m)\u001b[0m\u001b[0;34m\u001b[0m\u001b[0m\n\u001b[0m",
      "\u001b[0;32m<ipython-input-58-53e138fe0457>\u001b[0m in \u001b[0;36mciekawostkaMatematyczna\u001b[0;34m(typ, liczba, liczba2)\u001b[0m\n\u001b[1;32m      1\u001b[0m \u001b[0;32mdef\u001b[0m \u001b[0mciekawostkaMatematyczna\u001b[0m\u001b[0;34m(\u001b[0m\u001b[0mtyp\u001b[0m\u001b[0;34m,\u001b[0m \u001b[0mliczba\u001b[0m\u001b[0;34m,\u001b[0m \u001b[0mliczba2\u001b[0m\u001b[0;34m=\u001b[0m\u001b[0;32mNone\u001b[0m\u001b[0;34m)\u001b[0m\u001b[0;34m:\u001b[0m\u001b[0;34m\u001b[0m\u001b[0m\n\u001b[1;32m      2\u001b[0m     \u001b[0;32mif\u001b[0m \u001b[0mtyp\u001b[0m \u001b[0;32mnot\u001b[0m \u001b[0;32min\u001b[0m \u001b[0;34m[\u001b[0m\u001b[0;34m\"trivia\"\u001b[0m\u001b[0;34m,\u001b[0m \u001b[0;34m\"date\"\u001b[0m\u001b[0;34m,\u001b[0m \u001b[0;34m\"math\"\u001b[0m\u001b[0;34m,\u001b[0m \u001b[0;34m\"year\"\u001b[0m\u001b[0;34m]\u001b[0m\u001b[0;34m:\u001b[0m\u001b[0;34m\u001b[0m\u001b[0m\n\u001b[0;32m----> 3\u001b[0;31m         \u001b[0;32mraise\u001b[0m \u001b[0mValueError\u001b[0m\u001b[0;34m(\u001b[0m\u001b[0;34m\"Zly typ!\"\u001b[0m\u001b[0;34m)\u001b[0m\u001b[0;34m\u001b[0m\u001b[0m\n\u001b[0m\u001b[1;32m      4\u001b[0m     \u001b[0;32mif\u001b[0m \u001b[0mliczba2\u001b[0m \u001b[0;32mis\u001b[0m \u001b[0;32mNone\u001b[0m\u001b[0;34m:\u001b[0m\u001b[0;34m\u001b[0m\u001b[0m\n\u001b[1;32m      5\u001b[0m         \u001b[0mf\u001b[0m \u001b[0;34m=\u001b[0m \u001b[0mrequests\u001b[0m\u001b[0;34m.\u001b[0m\u001b[0mget\u001b[0m\u001b[0;34m(\u001b[0m\u001b[0;34mf\"http://numbersapi.com/{liczba}/{typ}?json\"\u001b[0m\u001b[0;34m)\u001b[0m\u001b[0;34m\u001b[0m\u001b[0m\n",
      "\u001b[0;31mValueError\u001b[0m: Zly typ!"
     ]
    }
   ],
   "source": [
    "ciekawostkaMatematyczna(\"asd\", 4)  "
   ]
  },
  {
   "cell_type": "code",
   "execution_count": 63,
   "metadata": {},
   "outputs": [
    {
     "ename": "ValueError",
     "evalue": "Zly typ jak dla 2 liczb!",
     "output_type": "error",
     "traceback": [
      "\u001b[0;31m---------------------------------------------------------------------------\u001b[0m",
      "\u001b[0;31mValueError\u001b[0m                                Traceback (most recent call last)",
      "\u001b[0;32m<ipython-input-63-edece3209f6b>\u001b[0m in \u001b[0;36m<module>\u001b[0;34m()\u001b[0m\n\u001b[0;32m----> 1\u001b[0;31m \u001b[0mciekawostkaMatematyczna\u001b[0m\u001b[0;34m(\u001b[0m\u001b[0;34m\"math\"\u001b[0m\u001b[0;34m,\u001b[0m \u001b[0;36m6\u001b[0m\u001b[0;34m,\u001b[0m \u001b[0;36m4\u001b[0m\u001b[0;34m)\u001b[0m\u001b[0;34m\u001b[0m\u001b[0m\n\u001b[0m",
      "\u001b[0;32m<ipython-input-58-53e138fe0457>\u001b[0m in \u001b[0;36mciekawostkaMatematyczna\u001b[0;34m(typ, liczba, liczba2)\u001b[0m\n\u001b[1;32m     10\u001b[0m         \u001b[0mslownik\u001b[0m \u001b[0;34m=\u001b[0m \u001b[0mjson\u001b[0m\u001b[0;34m.\u001b[0m\u001b[0mloads\u001b[0m\u001b[0;34m(\u001b[0m\u001b[0mf\u001b[0m\u001b[0;34m.\u001b[0m\u001b[0mtext\u001b[0m\u001b[0;34m)\u001b[0m\u001b[0;34m\u001b[0m\u001b[0m\n\u001b[1;32m     11\u001b[0m         \u001b[0;32mreturn\u001b[0m \u001b[0mslownik\u001b[0m\u001b[0;34m[\u001b[0m\u001b[0;34m\"text\"\u001b[0m\u001b[0;34m]\u001b[0m\u001b[0;34m\u001b[0m\u001b[0m\n\u001b[0;32m---> 12\u001b[0;31m     \u001b[0;32mraise\u001b[0m \u001b[0mValueError\u001b[0m\u001b[0;34m(\u001b[0m\u001b[0;34m\"Zly typ jak dla 2 liczb!\"\u001b[0m\u001b[0;34m)\u001b[0m\u001b[0;34m\u001b[0m\u001b[0m\n\u001b[0m",
      "\u001b[0;31mValueError\u001b[0m: Zly typ jak dla 2 liczb!"
     ]
    }
   ],
   "source": [
    "ciekawostkaMatematyczna(\"math\", 6, 4)  "
   ]
  },
  {
   "cell_type": "code",
   "execution_count": 81,
   "metadata": {},
   "outputs": [
    {
     "data": {
      "text/plain": [
       "array([ 5,  6,  7,  8,  9, 10, 11, 12, 13, 14])"
      ]
     },
     "execution_count": 81,
     "metadata": {},
     "output_type": "execute_result"
    }
   ],
   "source": [
    "np.arange(5, 15)"
   ]
  },
  {
   "cell_type": "code",
   "execution_count": 80,
   "metadata": {},
   "outputs": [
    {
     "data": {
      "text/html": [
       "<div>\n",
       "<style scoped>\n",
       "    .dataframe tbody tr th:only-of-type {\n",
       "        vertical-align: middle;\n",
       "    }\n",
       "\n",
       "    .dataframe tbody tr th {\n",
       "        vertical-align: top;\n",
       "    }\n",
       "\n",
       "    .dataframe thead th {\n",
       "        text-align: right;\n",
       "    }\n",
       "</style>\n",
       "<table border=\"1\" class=\"dataframe\">\n",
       "  <thead>\n",
       "    <tr style=\"text-align: right;\">\n",
       "      <th></th>\n",
       "      <th>liczba</th>\n",
       "      <th>ciekawostka</th>\n",
       "    </tr>\n",
       "  </thead>\n",
       "  <tbody>\n",
       "    <tr>\n",
       "      <th>0</th>\n",
       "      <td>1990</td>\n",
       "      <td>1990 is the year that November 13 - In New Zea...</td>\n",
       "    </tr>\n",
       "    <tr>\n",
       "      <th>1</th>\n",
       "      <td>1991</td>\n",
       "      <td>1991 is the year that the United States Depart...</td>\n",
       "    </tr>\n",
       "    <tr>\n",
       "      <th>2</th>\n",
       "      <td>1992</td>\n",
       "      <td>1992 is the year that Fuel that leaked into a ...</td>\n",
       "    </tr>\n",
       "    <tr>\n",
       "      <th>3</th>\n",
       "      <td>1993</td>\n",
       "      <td>1993 is the year that a magnitude 7.8 earthqua...</td>\n",
       "    </tr>\n",
       "    <tr>\n",
       "      <th>4</th>\n",
       "      <td>1994</td>\n",
       "      <td>1994 is the year that the Federal Open Market ...</td>\n",
       "    </tr>\n",
       "    <tr>\n",
       "      <th>5</th>\n",
       "      <td>1995</td>\n",
       "      <td>1995 is the year that an avalanche buries Alis...</td>\n",
       "    </tr>\n",
       "    <tr>\n",
       "      <th>6</th>\n",
       "      <td>1996</td>\n",
       "      <td>1996 is the year that all 141 people on board ...</td>\n",
       "    </tr>\n",
       "    <tr>\n",
       "      <th>7</th>\n",
       "      <td>1997</td>\n",
       "      <td>1997 is the year that a computer user known as...</td>\n",
       "    </tr>\n",
       "    <tr>\n",
       "      <th>8</th>\n",
       "      <td>1998</td>\n",
       "      <td>1998 is the year that Nineteen European nation...</td>\n",
       "    </tr>\n",
       "  </tbody>\n",
       "</table>\n",
       "</div>"
      ],
      "text/plain": [
       "   liczba                                        ciekawostka\n",
       "0    1990  1990 is the year that November 13 - In New Zea...\n",
       "1    1991  1991 is the year that the United States Depart...\n",
       "2    1992  1992 is the year that Fuel that leaked into a ...\n",
       "3    1993  1993 is the year that a magnitude 7.8 earthqua...\n",
       "4    1994  1994 is the year that the Federal Open Market ...\n",
       "5    1995  1995 is the year that an avalanche buries Alis...\n",
       "6    1996  1996 is the year that all 141 people on board ...\n",
       "7    1997  1997 is the year that a computer user known as...\n",
       "8    1998  1998 is the year that Nineteen European nation..."
      ]
     },
     "execution_count": 80,
     "metadata": {},
     "output_type": "execute_result"
    }
   ],
   "source": [
    "# http://numbersapi.com/1990..1999/year\n",
    "def masoweCiekawostkiMatematyczne(typ, liczba_start, liczba_koniec):\n",
    "    # Pandas, 2 kolumny, jedna to liczba, druga to ciekawostka\n",
    "    if typ not in [\"trivia\", \"date\", \"math\", \"year\"]:\n",
    "        raise ValueError(\"Zly typ!\")\n",
    "    \n",
    "    f = requests.get(f\"http://numbersapi.com/{liczba_start}..{liczba_koniec}/{typ}\")\n",
    "    ciekawostki = json.loads(f.text)\n",
    "#     print(ciekawostki)\n",
    "    \n",
    "    liczby = []\n",
    "    ciekawostkiLista = []\n",
    "    for liczba in np.arange(liczba_start, liczba_koniec):\n",
    "        liczby.append(liczba)\n",
    "        ciekawostkiLista.append(ciekawostki[str(liczba)])\n",
    "    return pd.DataFrame({\"liczba\":liczby, \"ciekawostka\":ciekawostkiLista})#.to_json()\n",
    "    \n",
    "    \n",
    "masoweCiekawostkiMatematyczne(\"year\",1990, 1999)"
   ]
  },
  {
   "cell_type": "code",
   "execution_count": 87,
   "metadata": {},
   "outputs": [
    {
     "data": {
      "text/html": [
       "<div>\n",
       "<style scoped>\n",
       "    .dataframe tbody tr th:only-of-type {\n",
       "        vertical-align: middle;\n",
       "    }\n",
       "\n",
       "    .dataframe tbody tr th {\n",
       "        vertical-align: top;\n",
       "    }\n",
       "\n",
       "    .dataframe thead th {\n",
       "        text-align: right;\n",
       "    }\n",
       "</style>\n",
       "<table border=\"1\" class=\"dataframe\">\n",
       "  <thead>\n",
       "    <tr style=\"text-align: right;\">\n",
       "      <th></th>\n",
       "      <th>ciekawostka</th>\n",
       "    </tr>\n",
       "  </thead>\n",
       "  <tbody>\n",
       "    <tr>\n",
       "      <th>1990</th>\n",
       "      <td>1990 is the year that Mary Robinson begins her...</td>\n",
       "    </tr>\n",
       "    <tr>\n",
       "      <th>1991</th>\n",
       "      <td>1991 is the year that the Provisional Irish Re...</td>\n",
       "    </tr>\n",
       "    <tr>\n",
       "      <th>1992</th>\n",
       "      <td>1992 is the year that the Socialist Federal Re...</td>\n",
       "    </tr>\n",
       "    <tr>\n",
       "      <th>1993</th>\n",
       "      <td>1993 is the year that Jiang Zemin becomes Pres...</td>\n",
       "    </tr>\n",
       "    <tr>\n",
       "      <th>1994</th>\n",
       "      <td>1994 is the year that Johan Heyns, an influent...</td>\n",
       "    </tr>\n",
       "    <tr>\n",
       "      <th>1995</th>\n",
       "      <td>1995 is the year that a United Nations tribuna...</td>\n",
       "    </tr>\n",
       "  </tbody>\n",
       "</table>\n",
       "</div>"
      ],
      "text/plain": [
       "                                            ciekawostka\n",
       "1990  1990 is the year that Mary Robinson begins her...\n",
       "1991  1991 is the year that the Provisional Irish Re...\n",
       "1992  1992 is the year that the Socialist Federal Re...\n",
       "1993  1993 is the year that Jiang Zemin becomes Pres...\n",
       "1994  1994 is the year that Johan Heyns, an influent...\n",
       "1995  1995 is the year that a United Nations tribuna..."
      ]
     },
     "execution_count": 87,
     "metadata": {},
     "output_type": "execute_result"
    }
   ],
   "source": [
    "def masoweCiekawostkiMatematyczne(typ, liczba_start, liczba_koniec):\n",
    "    # Pandas, 2 kolumny, jedna to liczba, druga to ciekawostka\n",
    "    if typ not in [\"trivia\", \"date\", \"math\", \"year\"]:\n",
    "        raise ValueError(\"Zly typ!\")\n",
    "    \n",
    "    f = requests.get(f\"http://numbersapi.com/{liczba_start}..{liczba_koniec}/{typ}\")\n",
    "#     print(json.loads(f.text))\n",
    "    return pd.DataFrame(json.loads(f.text), index = [\"ciekawostka\"]).transpose()\n",
    "masoweCiekawostkiMatematyczne(\"year\", 1990, 1995)"
   ]
  },
  {
   "cell_type": "code",
   "execution_count": 68,
   "metadata": {},
   "outputs": [
    {
     "data": {
      "text/html": [
       "<div>\n",
       "<style scoped>\n",
       "    .dataframe tbody tr th:only-of-type {\n",
       "        vertical-align: middle;\n",
       "    }\n",
       "\n",
       "    .dataframe tbody tr th {\n",
       "        vertical-align: top;\n",
       "    }\n",
       "\n",
       "    .dataframe thead th {\n",
       "        text-align: right;\n",
       "    }\n",
       "</style>\n",
       "<table border=\"1\" class=\"dataframe\">\n",
       "  <thead>\n",
       "    <tr style=\"text-align: right;\">\n",
       "      <th></th>\n",
       "      <th>index</th>\n",
       "      <th>text</th>\n",
       "    </tr>\n",
       "  </thead>\n",
       "  <tbody>\n",
       "    <tr>\n",
       "      <th>0</th>\n",
       "      <td>1990</td>\n",
       "      <td>1990 is a stella octangula number.</td>\n",
       "    </tr>\n",
       "    <tr>\n",
       "      <th>1</th>\n",
       "      <td>1991</td>\n",
       "      <td>1991 is an unremarkable number.</td>\n",
       "    </tr>\n",
       "    <tr>\n",
       "      <th>2</th>\n",
       "      <td>1992</td>\n",
       "      <td>1992 is an uninteresting number.</td>\n",
       "    </tr>\n",
       "    <tr>\n",
       "      <th>3</th>\n",
       "      <td>1993</td>\n",
       "      <td>1993 is an unremarkable number.</td>\n",
       "    </tr>\n",
       "    <tr>\n",
       "      <th>4</th>\n",
       "      <td>1994</td>\n",
       "      <td>1994 is the number of digits in the 5^{th} Cul...</td>\n",
       "    </tr>\n",
       "    <tr>\n",
       "      <th>5</th>\n",
       "      <td>1995</td>\n",
       "      <td>1995 is the number of graphs with 9 vertices w...</td>\n",
       "    </tr>\n",
       "    <tr>\n",
       "      <th>6</th>\n",
       "      <td>1996</td>\n",
       "      <td>1996 is a boring number.</td>\n",
       "    </tr>\n",
       "    <tr>\n",
       "      <th>7</th>\n",
       "      <td>1997</td>\n",
       "      <td>1997 is a prime factor of 87654321.</td>\n",
       "    </tr>\n",
       "    <tr>\n",
       "      <th>8</th>\n",
       "      <td>1998</td>\n",
       "      <td>1998 is the largest number that is the sum of ...</td>\n",
       "    </tr>\n",
       "    <tr>\n",
       "      <th>9</th>\n",
       "      <td>1999</td>\n",
       "      <td>1999 is the smallest number whose digits add t...</td>\n",
       "    </tr>\n",
       "  </tbody>\n",
       "</table>\n",
       "</div>"
      ],
      "text/plain": [
       "   index                                               text\n",
       "0   1990                 1990 is a stella octangula number.\n",
       "1   1991                    1991 is an unremarkable number.\n",
       "2   1992                   1992 is an uninteresting number.\n",
       "3   1993                    1993 is an unremarkable number.\n",
       "4   1994  1994 is the number of digits in the 5^{th} Cul...\n",
       "5   1995  1995 is the number of graphs with 9 vertices w...\n",
       "6   1996                           1996 is a boring number.\n",
       "7   1997                1997 is a prime factor of 87654321.\n",
       "8   1998  1998 is the largest number that is the sum of ...\n",
       "9   1999  1999 is the smallest number whose digits add t..."
      ]
     },
     "execution_count": 68,
     "metadata": {},
     "output_type": "execute_result"
    }
   ],
   "source": [
    "def masCiekMat(typ,liczba_start, liczba_koniec):\n",
    "    return pd.DataFrame(\\\n",
    "            pd.read_json(f'http://numbersapi.com/{liczba_start}..{liczba_koniec}/{typ}?json').loc['text']).reset_index()\n",
    "masCiekMat(\"math\", 1990, 1999)"
   ]
  },
  {
   "cell_type": "code",
   "execution_count": 73,
   "metadata": {},
   "outputs": [
    {
     "data": {
      "text/plain": [
       "'{\"kolumna1\":{\"0\":0,\"1\":10,\"2\":20,\"3\":30,\"4\":40,\"5\":50,\"6\":60,\"7\":70,\"8\":80},\"kolumna2\":{\"0\":0,\"1\":100,\"2\":200,\"3\":300,\"4\":400,\"5\":500,\"6\":600,\"7\":700,\"8\":800}}'"
      ]
     },
     "execution_count": 73,
     "metadata": {},
     "output_type": "execute_result"
    }
   ],
   "source": [
    "lista1 = []\n",
    "lista2 = []\n",
    "for i in range(9):\n",
    "    lista1.append(i*10)\n",
    "    lista2.append(i*100)\n",
    "pd.DataFrame({\"kolumna1\":lista1, \"kolumna2\":lista2}).to_json()"
   ]
  }
 ],
 "metadata": {
  "kernelspec": {
   "display_name": "Python 3",
   "language": "python",
   "name": "python3"
  },
  "language_info": {
   "codemirror_mode": {
    "name": "ipython",
    "version": 3
   },
   "file_extension": ".py",
   "mimetype": "text/x-python",
   "name": "python",
   "nbconvert_exporter": "python",
   "pygments_lexer": "ipython3",
   "version": "3.6.5"
  }
 },
 "nbformat": 4,
 "nbformat_minor": 2
}
